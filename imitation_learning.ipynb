{
 "cells": [
  {
   "cell_type": "code",
   "execution_count": 1,
   "metadata": {},
   "outputs": [
    {
     "name": "stdout",
     "output_type": "stream",
     "text": [
      "Requirement already satisfied: setuptools==65.5.0 in /Users/khoavo2003/anaconda3/envs/cr37/lib/python3.11/site-packages (65.5.0)\n",
      "Collecting setuptools==65.5.0\n",
      "  Using cached setuptools-65.5.0-py3-none-any.whl (1.2 MB)\n",
      "Requirement already satisfied: pip==21 in /Users/khoavo2003/anaconda3/envs/cr37/lib/python3.11/site-packages (21.0)\n",
      "Collecting pip==21\n",
      "  Using cached pip-21.0-py3-none-any.whl (1.5 MB)\n",
      "\u001b[33mWARNING: You are using pip version 21.0; however, version 23.2.1 is available.\n",
      "You should consider upgrading via the '/Users/khoavo2003/anaconda3/envs/cr37/bin/python3 -m pip install --upgrade pip' command.\u001b[0m\n",
      "Requirement already satisfied: gymnasium in /Users/khoavo2003/anaconda3/envs/cr37/lib/python3.11/site-packages (0.28.1)\n",
      "Requirement already satisfied: farama-notifications>=0.0.1 in /Users/khoavo2003/anaconda3/envs/cr37/lib/python3.11/site-packages (from gymnasium) (0.0.4)\n",
      "Requirement already satisfied: typing-extensions>=4.3.0 in /Users/khoavo2003/anaconda3/envs/cr37/lib/python3.11/site-packages (from gymnasium) (4.5.0)\n",
      "Requirement already satisfied: cloudpickle>=1.2.0 in /Users/khoavo2003/anaconda3/envs/cr37/lib/python3.11/site-packages (from gymnasium) (2.2.1)\n",
      "Requirement already satisfied: jax-jumpy>=1.0.0 in /Users/khoavo2003/anaconda3/envs/cr37/lib/python3.11/site-packages (from gymnasium) (1.0.0)\n",
      "Requirement already satisfied: numpy>=1.21.0 in /Users/khoavo2003/anaconda3/envs/cr37/lib/python3.11/site-packages (from gymnasium) (1.23.5)\n",
      "\u001b[33mWARNING: You are using pip version 21.0; however, version 23.2.1 is available.\n",
      "You should consider upgrading via the '/Users/khoavo2003/anaconda3/envs/cr37/bin/python3 -m pip install --upgrade pip' command.\u001b[0m\n",
      "Requirement already satisfied: skrl in /Users/khoavo2003/anaconda3/envs/cr37/lib/python3.11/site-packages (1.0.0)\n",
      "Requirement already satisfied: tensorboard in /Users/khoavo2003/anaconda3/envs/cr37/lib/python3.11/site-packages (from skrl) (2.12.3)\n",
      "Requirement already satisfied: gym in /Users/khoavo2003/anaconda3/envs/cr37/lib/python3.11/site-packages (from skrl) (0.21.0)\n",
      "Requirement already satisfied: tqdm in /Users/khoavo2003/anaconda3/envs/cr37/lib/python3.11/site-packages (from skrl) (4.66.1)\n",
      "Requirement already satisfied: packaging in /Users/khoavo2003/anaconda3/envs/cr37/lib/python3.11/site-packages (from skrl) (23.0)\n",
      "Requirement already satisfied: gymnasium in /Users/khoavo2003/anaconda3/envs/cr37/lib/python3.11/site-packages (from skrl) (0.28.1)\n",
      "Requirement already satisfied: numpy>=1.18.0 in /Users/khoavo2003/anaconda3/envs/cr37/lib/python3.11/site-packages (from gym->skrl) (1.23.5)\n",
      "Requirement already satisfied: cloudpickle>=1.2.0 in /Users/khoavo2003/anaconda3/envs/cr37/lib/python3.11/site-packages (from gym->skrl) (2.2.1)\n",
      "Requirement already satisfied: typing-extensions>=4.3.0 in /Users/khoavo2003/anaconda3/envs/cr37/lib/python3.11/site-packages (from gymnasium->skrl) (4.5.0)\n",
      "Requirement already satisfied: farama-notifications>=0.0.1 in /Users/khoavo2003/anaconda3/envs/cr37/lib/python3.11/site-packages (from gymnasium->skrl) (0.0.4)\n",
      "Requirement already satisfied: jax-jumpy>=1.0.0 in /Users/khoavo2003/anaconda3/envs/cr37/lib/python3.11/site-packages (from gymnasium->skrl) (1.0.0)\n",
      "Requirement already satisfied: werkzeug>=1.0.1 in /Users/khoavo2003/anaconda3/envs/cr37/lib/python3.11/site-packages (from tensorboard->skrl) (2.2.3)\n",
      "Requirement already satisfied: setuptools>=41.0.0 in /Users/khoavo2003/anaconda3/envs/cr37/lib/python3.11/site-packages (from tensorboard->skrl) (65.5.0)\n",
      "Requirement already satisfied: grpcio>=1.48.2 in /Users/khoavo2003/anaconda3/envs/cr37/lib/python3.11/site-packages (from tensorboard->skrl) (1.48.2)\n",
      "Requirement already satisfied: google-auth<3,>=1.6.3 in /Users/khoavo2003/anaconda3/envs/cr37/lib/python3.11/site-packages (from tensorboard->skrl) (2.6.0)\n",
      "Requirement already satisfied: requests<3,>=2.21.0 in /Users/khoavo2003/anaconda3/envs/cr37/lib/python3.11/site-packages (from tensorboard->skrl) (2.25.1)\n",
      "Requirement already satisfied: tensorboard-data-server<0.8.0,>=0.7.0 in /Users/khoavo2003/anaconda3/envs/cr37/lib/python3.11/site-packages (from tensorboard->skrl) (0.7.0)\n",
      "Requirement already satisfied: absl-py>=0.4 in /Users/khoavo2003/anaconda3/envs/cr37/lib/python3.11/site-packages (from tensorboard->skrl) (1.4.0)\n",
      "Requirement already satisfied: markdown>=2.6.8 in /Users/khoavo2003/anaconda3/envs/cr37/lib/python3.11/site-packages (from tensorboard->skrl) (3.4.1)\n",
      "Requirement already satisfied: protobuf>=3.19.6 in /Users/khoavo2003/anaconda3/envs/cr37/lib/python3.11/site-packages (from tensorboard->skrl) (4.24.0)\n",
      "Requirement already satisfied: google-auth-oauthlib<1.1,>=0.5 in /Users/khoavo2003/anaconda3/envs/cr37/lib/python3.11/site-packages (from tensorboard->skrl) (0.5.2)\n",
      "Requirement already satisfied: wheel>=0.26 in /Users/khoavo2003/anaconda3/envs/cr37/lib/python3.11/site-packages (from tensorboard->skrl) (0.40.0)\n",
      "Requirement already satisfied: cachetools<6.0,>=2.0.0 in /Users/khoavo2003/anaconda3/envs/cr37/lib/python3.11/site-packages (from google-auth<3,>=1.6.3->tensorboard->skrl) (4.2.2)\n",
      "Requirement already satisfied: rsa<5,>=3.1.4 in /Users/khoavo2003/anaconda3/envs/cr37/lib/python3.11/site-packages (from google-auth<3,>=1.6.3->tensorboard->skrl) (4.7.2)\n",
      "Requirement already satisfied: pyasn1-modules>=0.2.1 in /Users/khoavo2003/anaconda3/envs/cr37/lib/python3.11/site-packages (from google-auth<3,>=1.6.3->tensorboard->skrl) (0.2.8)\n",
      "Requirement already satisfied: six>=1.9.0 in /Users/khoavo2003/anaconda3/envs/cr37/lib/python3.11/site-packages (from google-auth<3,>=1.6.3->tensorboard->skrl) (1.16.0)\n",
      "Requirement already satisfied: requests-oauthlib>=0.7.0 in /Users/khoavo2003/anaconda3/envs/cr37/lib/python3.11/site-packages (from google-auth-oauthlib<1.1,>=0.5->tensorboard->skrl) (1.3.0)\n",
      "Requirement already satisfied: pyasn1<0.5.0,>=0.4.6 in /Users/khoavo2003/anaconda3/envs/cr37/lib/python3.11/site-packages (from pyasn1-modules>=0.2.1->google-auth<3,>=1.6.3->tensorboard->skrl) (0.4.8)\n",
      "Requirement already satisfied: urllib3<1.27,>=1.21.1 in /Users/khoavo2003/anaconda3/envs/cr37/lib/python3.11/site-packages (from requests<3,>=2.21.0->tensorboard->skrl) (1.26.16)\n",
      "Requirement already satisfied: certifi>=2017.4.17 in /Users/khoavo2003/anaconda3/envs/cr37/lib/python3.11/site-packages (from requests<3,>=2.21.0->tensorboard->skrl) (2023.7.22)\n",
      "Requirement already satisfied: chardet<5,>=3.0.2 in /Users/khoavo2003/anaconda3/envs/cr37/lib/python3.11/site-packages (from requests<3,>=2.21.0->tensorboard->skrl) (4.0.0)\n",
      "Requirement already satisfied: idna<3,>=2.5 in /Users/khoavo2003/anaconda3/envs/cr37/lib/python3.11/site-packages (from requests<3,>=2.21.0->tensorboard->skrl) (2.10)\n",
      "Requirement already satisfied: oauthlib>=3.0.0 in /Users/khoavo2003/anaconda3/envs/cr37/lib/python3.11/site-packages (from requests-oauthlib>=0.7.0->google-auth-oauthlib<1.1,>=0.5->tensorboard->skrl) (3.2.2)\n",
      "Requirement already satisfied: MarkupSafe>=2.1.1 in /Users/khoavo2003/anaconda3/envs/cr37/lib/python3.11/site-packages (from werkzeug>=1.0.1->tensorboard->skrl) (2.1.1)\n",
      "\u001b[33mWARNING: You are using pip version 21.0; however, version 23.2.1 is available.\n",
      "You should consider upgrading via the '/Users/khoavo2003/anaconda3/envs/cr37/bin/python3 -m pip install --upgrade pip' command.\u001b[0m\n",
      "Requirement already satisfied: stable_baselines3 in /Users/khoavo2003/anaconda3/envs/cr37/lib/python3.11/site-packages (2.1.0)\n",
      "Requirement already satisfied: gymnasium<0.30,>=0.28.1 in /Users/khoavo2003/anaconda3/envs/cr37/lib/python3.11/site-packages (from stable_baselines3) (0.28.1)\n",
      "Requirement already satisfied: numpy>=1.20 in /Users/khoavo2003/anaconda3/envs/cr37/lib/python3.11/site-packages (from stable_baselines3) (1.23.5)\n",
      "Requirement already satisfied: cloudpickle in /Users/khoavo2003/anaconda3/envs/cr37/lib/python3.11/site-packages (from stable_baselines3) (2.2.1)\n",
      "Requirement already satisfied: torch>=1.13 in /Users/khoavo2003/anaconda3/envs/cr37/lib/python3.11/site-packages (from stable_baselines3) (2.0.1)\n",
      "Requirement already satisfied: pandas in /Users/khoavo2003/anaconda3/envs/cr37/lib/python3.11/site-packages (from stable_baselines3) (2.0.3)\n",
      "Requirement already satisfied: matplotlib in /Users/khoavo2003/anaconda3/envs/cr37/lib/python3.11/site-packages (from stable_baselines3) (3.7.2)\n",
      "Requirement already satisfied: farama-notifications>=0.0.1 in /Users/khoavo2003/anaconda3/envs/cr37/lib/python3.11/site-packages (from gymnasium<0.30,>=0.28.1->stable_baselines3) (0.0.4)\n",
      "Requirement already satisfied: jax-jumpy>=1.0.0 in /Users/khoavo2003/anaconda3/envs/cr37/lib/python3.11/site-packages (from gymnasium<0.30,>=0.28.1->stable_baselines3) (1.0.0)\n",
      "Requirement already satisfied: typing-extensions>=4.3.0 in /Users/khoavo2003/anaconda3/envs/cr37/lib/python3.11/site-packages (from gymnasium<0.30,>=0.28.1->stable_baselines3) (4.5.0)\n",
      "Requirement already satisfied: filelock in /Users/khoavo2003/anaconda3/envs/cr37/lib/python3.11/site-packages (from torch>=1.13->stable_baselines3) (3.0.12)\n",
      "Requirement already satisfied: networkx in /Users/khoavo2003/anaconda3/envs/cr37/lib/python3.11/site-packages (from torch>=1.13->stable_baselines3) (3.1)\n",
      "Requirement already satisfied: sympy in /Users/khoavo2003/anaconda3/envs/cr37/lib/python3.11/site-packages (from torch>=1.13->stable_baselines3) (1.12)\n",
      "Requirement already satisfied: jinja2 in /Users/khoavo2003/anaconda3/envs/cr37/lib/python3.11/site-packages (from torch>=1.13->stable_baselines3) (3.1.2)\n",
      "Requirement already satisfied: MarkupSafe>=2.0 in /Users/khoavo2003/anaconda3/envs/cr37/lib/python3.11/site-packages (from jinja2->torch>=1.13->stable_baselines3) (2.1.1)\n",
      "Requirement already satisfied: pyparsing<3.1,>=2.3.1 in /Users/khoavo2003/anaconda3/envs/cr37/lib/python3.11/site-packages (from matplotlib->stable_baselines3) (3.0.9)\n",
      "Requirement already satisfied: contourpy>=1.0.1 in /Users/khoavo2003/anaconda3/envs/cr37/lib/python3.11/site-packages (from matplotlib->stable_baselines3) (1.1.0)\n",
      "Requirement already satisfied: fonttools>=4.22.0 in /Users/khoavo2003/anaconda3/envs/cr37/lib/python3.11/site-packages (from matplotlib->stable_baselines3) (4.41.0)\n",
      "Requirement already satisfied: kiwisolver>=1.0.1 in /Users/khoavo2003/anaconda3/envs/cr37/lib/python3.11/site-packages (from matplotlib->stable_baselines3) (1.4.4)\n",
      "Requirement already satisfied: cycler>=0.10 in /Users/khoavo2003/anaconda3/envs/cr37/lib/python3.11/site-packages (from matplotlib->stable_baselines3) (0.11.0)\n",
      "Requirement already satisfied: packaging>=20.0 in /Users/khoavo2003/anaconda3/envs/cr37/lib/python3.11/site-packages (from matplotlib->stable_baselines3) (23.0)\n",
      "Requirement already satisfied: python-dateutil>=2.7 in /Users/khoavo2003/anaconda3/envs/cr37/lib/python3.11/site-packages (from matplotlib->stable_baselines3) (2.8.2)\n",
      "Requirement already satisfied: pillow>=6.2.0 in /Users/khoavo2003/anaconda3/envs/cr37/lib/python3.11/site-packages (from matplotlib->stable_baselines3) (10.0.0)\n",
      "Requirement already satisfied: six>=1.5 in /Users/khoavo2003/anaconda3/envs/cr37/lib/python3.11/site-packages (from python-dateutil>=2.7->matplotlib->stable_baselines3) (1.16.0)\n",
      "Requirement already satisfied: pytz>=2020.1 in /Users/khoavo2003/anaconda3/envs/cr37/lib/python3.11/site-packages (from pandas->stable_baselines3) (2022.7)\n",
      "Requirement already satisfied: tzdata>=2022.1 in /Users/khoavo2003/anaconda3/envs/cr37/lib/python3.11/site-packages (from pandas->stable_baselines3) (2023.3)\n",
      "Requirement already satisfied: mpmath>=0.19 in /Users/khoavo2003/anaconda3/envs/cr37/lib/python3.11/site-packages (from sympy->torch>=1.13->stable_baselines3) (1.3.0)\n",
      "\u001b[33mWARNING: You are using pip version 21.0; however, version 23.2.1 is available.\n",
      "You should consider upgrading via the '/Users/khoavo2003/anaconda3/envs/cr37/bin/python3 -m pip install --upgrade pip' command.\u001b[0m\n",
      "Requirement already satisfied: imitation in /Users/khoavo2003/cs224/imitation/src (0.4.1.dev148597755)\n",
      "Requirement already satisfied: gymnasium[classic-control]~=0.28.1 in /Users/khoavo2003/anaconda3/envs/cr37/lib/python3.11/site-packages (from imitation) (0.28.1)\n",
      "Requirement already satisfied: matplotlib in /Users/khoavo2003/anaconda3/envs/cr37/lib/python3.11/site-packages (from imitation) (3.7.2)\n",
      "Requirement already satisfied: numpy>=1.15 in /Users/khoavo2003/anaconda3/envs/cr37/lib/python3.11/site-packages (from imitation) (1.23.5)\n",
      "Requirement already satisfied: torch>=1.4.0 in /Users/khoavo2003/anaconda3/envs/cr37/lib/python3.11/site-packages (from imitation) (2.0.1)\n",
      "Requirement already satisfied: tqdm in /Users/khoavo2003/anaconda3/envs/cr37/lib/python3.11/site-packages (from imitation) (4.66.1)\n",
      "Requirement already satisfied: rich in /Users/khoavo2003/anaconda3/envs/cr37/lib/python3.11/site-packages (from imitation) (13.5.3)\n",
      "Requirement already satisfied: scikit-learn>=0.21.2 in /Users/khoavo2003/anaconda3/envs/cr37/lib/python3.11/site-packages (from imitation) (1.3.0)\n",
      "Requirement already satisfied: seals~=0.2.1 in /Users/khoavo2003/anaconda3/envs/cr37/lib/python3.11/site-packages (from imitation) (0.2.1)\n",
      "Requirement already satisfied: stable-baselines3~=2.0 in /Users/khoavo2003/anaconda3/envs/cr37/lib/python3.11/site-packages (from imitation) (2.1.0)\n",
      "Requirement already satisfied: sacred>=0.8.4 in /Users/khoavo2003/anaconda3/envs/cr37/lib/python3.11/site-packages (from imitation) (0.8.4)\n",
      "Requirement already satisfied: tensorboard>=1.14 in /Users/khoavo2003/anaconda3/envs/cr37/lib/python3.11/site-packages (from imitation) (2.12.3)\n",
      "Requirement already satisfied: huggingface_sb3~=3.0 in /Users/khoavo2003/anaconda3/envs/cr37/lib/python3.11/site-packages (from imitation) (3.0)\n",
      "Requirement already satisfied: datasets>=2.8.0 in /Users/khoavo2003/anaconda3/envs/cr37/lib/python3.11/site-packages (from imitation) (2.14.5)\n",
      "Requirement already satisfied: multiprocess in /Users/khoavo2003/anaconda3/envs/cr37/lib/python3.11/site-packages (from datasets>=2.8.0->imitation) (0.70.15)\n",
      "Requirement already satisfied: aiohttp in /Users/khoavo2003/anaconda3/envs/cr37/lib/python3.11/site-packages (from datasets>=2.8.0->imitation) (3.8.3)\n",
      "Requirement already satisfied: xxhash in /Users/khoavo2003/anaconda3/envs/cr37/lib/python3.11/site-packages (from datasets>=2.8.0->imitation) (3.3.0)\n",
      "Requirement already satisfied: requests>=2.19.0 in /Users/khoavo2003/anaconda3/envs/cr37/lib/python3.11/site-packages (from datasets>=2.8.0->imitation) (2.25.1)\n",
      "Requirement already satisfied: pyarrow>=8.0.0 in /Users/khoavo2003/anaconda3/envs/cr37/lib/python3.11/site-packages (from datasets>=2.8.0->imitation) (13.0.0)\n",
      "Requirement already satisfied: fsspec[http]<2023.9.0,>=2023.1.0 in /Users/khoavo2003/anaconda3/envs/cr37/lib/python3.11/site-packages (from datasets>=2.8.0->imitation) (2023.6.0)\n",
      "Requirement already satisfied: packaging in /Users/khoavo2003/anaconda3/envs/cr37/lib/python3.11/site-packages (from datasets>=2.8.0->imitation) (23.0)\n",
      "Requirement already satisfied: dill<0.3.8,>=0.3.0 in /Users/khoavo2003/anaconda3/envs/cr37/lib/python3.11/site-packages (from datasets>=2.8.0->imitation) (0.3.7)\n",
      "Requirement already satisfied: huggingface-hub<1.0.0,>=0.14.0 in /Users/khoavo2003/anaconda3/envs/cr37/lib/python3.11/site-packages (from datasets>=2.8.0->imitation) (0.17.1)\n",
      "Requirement already satisfied: pyyaml>=5.1 in /Users/khoavo2003/anaconda3/envs/cr37/lib/python3.11/site-packages (from datasets>=2.8.0->imitation) (6.0)\n",
      "Requirement already satisfied: pandas in /Users/khoavo2003/anaconda3/envs/cr37/lib/python3.11/site-packages (from datasets>=2.8.0->imitation) (2.0.3)\n",
      "Requirement already satisfied: async-timeout<5.0,>=4.0.0a3 in /Users/khoavo2003/anaconda3/envs/cr37/lib/python3.11/site-packages (from aiohttp->datasets>=2.8.0->imitation) (4.0.2)\n",
      "Requirement already satisfied: attrs>=17.3.0 in /Users/khoavo2003/anaconda3/envs/cr37/lib/python3.11/site-packages (from aiohttp->datasets>=2.8.0->imitation) (22.1.0)\n",
      "Requirement already satisfied: aiosignal>=1.1.2 in /Users/khoavo2003/anaconda3/envs/cr37/lib/python3.11/site-packages (from aiohttp->datasets>=2.8.0->imitation) (1.2.0)\n",
      "Requirement already satisfied: frozenlist>=1.1.1 in /Users/khoavo2003/anaconda3/envs/cr37/lib/python3.11/site-packages (from aiohttp->datasets>=2.8.0->imitation) (1.3.3)\n",
      "Requirement already satisfied: charset-normalizer<3.0,>=2.0 in /Users/khoavo2003/anaconda3/envs/cr37/lib/python3.11/site-packages (from aiohttp->datasets>=2.8.0->imitation) (2.0.4)\n",
      "Requirement already satisfied: yarl<2.0,>=1.0 in /Users/khoavo2003/anaconda3/envs/cr37/lib/python3.11/site-packages (from aiohttp->datasets>=2.8.0->imitation) (1.8.1)\n",
      "Requirement already satisfied: multidict<7.0,>=4.5 in /Users/khoavo2003/anaconda3/envs/cr37/lib/python3.11/site-packages (from aiohttp->datasets>=2.8.0->imitation) (6.0.2)\n",
      "Requirement already satisfied: farama-notifications>=0.0.1 in /Users/khoavo2003/anaconda3/envs/cr37/lib/python3.11/site-packages (from gymnasium[classic-control]~=0.28.1->imitation) (0.0.4)\n",
      "Requirement already satisfied: cloudpickle>=1.2.0 in /Users/khoavo2003/anaconda3/envs/cr37/lib/python3.11/site-packages (from gymnasium[classic-control]~=0.28.1->imitation) (2.2.1)\n",
      "Requirement already satisfied: jax-jumpy>=1.0.0 in /Users/khoavo2003/anaconda3/envs/cr37/lib/python3.11/site-packages (from gymnasium[classic-control]~=0.28.1->imitation) (1.0.0)\n",
      "Requirement already satisfied: typing-extensions>=4.3.0 in /Users/khoavo2003/anaconda3/envs/cr37/lib/python3.11/site-packages (from gymnasium[classic-control]~=0.28.1->imitation) (4.5.0)\n",
      "Requirement already satisfied: pygame==2.1.3 in /Users/khoavo2003/anaconda3/envs/cr37/lib/python3.11/site-packages (from gymnasium[classic-control]~=0.28.1->imitation) (2.1.3)\n",
      "Requirement already satisfied: filelock in /Users/khoavo2003/anaconda3/envs/cr37/lib/python3.11/site-packages (from huggingface-hub<1.0.0,>=0.14.0->datasets>=2.8.0->imitation) (3.0.12)\n",
      "Requirement already satisfied: wasabi in /Users/khoavo2003/anaconda3/envs/cr37/lib/python3.11/site-packages (from huggingface_sb3~=3.0->imitation) (1.1.2)\n",
      "Requirement already satisfied: chardet<5,>=3.0.2 in /Users/khoavo2003/anaconda3/envs/cr37/lib/python3.11/site-packages (from requests>=2.19.0->datasets>=2.8.0->imitation) (4.0.0)\n",
      "Requirement already satisfied: urllib3<1.27,>=1.21.1 in /Users/khoavo2003/anaconda3/envs/cr37/lib/python3.11/site-packages (from requests>=2.19.0->datasets>=2.8.0->imitation) (1.26.16)\n",
      "Requirement already satisfied: idna<3,>=2.5 in /Users/khoavo2003/anaconda3/envs/cr37/lib/python3.11/site-packages (from requests>=2.19.0->datasets>=2.8.0->imitation) (2.10)\n",
      "Requirement already satisfied: certifi>=2017.4.17 in /Users/khoavo2003/anaconda3/envs/cr37/lib/python3.11/site-packages (from requests>=2.19.0->datasets>=2.8.0->imitation) (2023.7.22)\n",
      "Requirement already satisfied: jsonpickle>=1.2 in /Users/khoavo2003/anaconda3/envs/cr37/lib/python3.11/site-packages (from sacred>=0.8.4->imitation) (3.0.2)\n",
      "Requirement already satisfied: colorama>=0.4 in /Users/khoavo2003/anaconda3/envs/cr37/lib/python3.11/site-packages (from sacred>=0.8.4->imitation) (0.4.6)\n",
      "Requirement already satisfied: GitPython in /Users/khoavo2003/anaconda3/envs/cr37/lib/python3.11/site-packages (from sacred>=0.8.4->imitation) (3.1.36)\n",
      "Requirement already satisfied: docopt<1.0,>=0.3 in /Users/khoavo2003/anaconda3/envs/cr37/lib/python3.11/site-packages (from sacred>=0.8.4->imitation) (0.6.2)\n",
      "Requirement already satisfied: wrapt<2.0,>=1.0 in /Users/khoavo2003/anaconda3/envs/cr37/lib/python3.11/site-packages (from sacred>=0.8.4->imitation) (1.14.1)\n",
      "Requirement already satisfied: munch<3.0,>=2.5 in /Users/khoavo2003/anaconda3/envs/cr37/lib/python3.11/site-packages (from sacred>=0.8.4->imitation) (2.5.0)\n",
      "Requirement already satisfied: py-cpuinfo>=4.0 in /Users/khoavo2003/anaconda3/envs/cr37/lib/python3.11/site-packages (from sacred>=0.8.4->imitation) (9.0.0)\n",
      "Requirement already satisfied: six in /Users/khoavo2003/anaconda3/envs/cr37/lib/python3.11/site-packages (from munch<3.0,>=2.5->sacred>=0.8.4->imitation) (1.16.0)\n",
      "Requirement already satisfied: threadpoolctl>=2.0.0 in /Users/khoavo2003/anaconda3/envs/cr37/lib/python3.11/site-packages (from scikit-learn>=0.21.2->imitation) (3.2.0)\n",
      "Requirement already satisfied: joblib>=1.1.1 in /Users/khoavo2003/anaconda3/envs/cr37/lib/python3.11/site-packages (from scikit-learn>=0.21.2->imitation) (1.3.1)\n",
      "Requirement already satisfied: scipy>=1.5.0 in /Users/khoavo2003/anaconda3/envs/cr37/lib/python3.11/site-packages (from scikit-learn>=0.21.2->imitation) (1.10.1)\n",
      "Requirement already satisfied: protobuf>=3.19.6 in /Users/khoavo2003/anaconda3/envs/cr37/lib/python3.11/site-packages (from tensorboard>=1.14->imitation) (4.24.0)\n",
      "Requirement already satisfied: absl-py>=0.4 in /Users/khoavo2003/anaconda3/envs/cr37/lib/python3.11/site-packages (from tensorboard>=1.14->imitation) (1.4.0)\n",
      "Requirement already satisfied: wheel>=0.26 in /Users/khoavo2003/anaconda3/envs/cr37/lib/python3.11/site-packages (from tensorboard>=1.14->imitation) (0.40.0)\n",
      "Requirement already satisfied: google-auth<3,>=1.6.3 in /Users/khoavo2003/anaconda3/envs/cr37/lib/python3.11/site-packages (from tensorboard>=1.14->imitation) (2.6.0)\n",
      "Requirement already satisfied: grpcio>=1.48.2 in /Users/khoavo2003/anaconda3/envs/cr37/lib/python3.11/site-packages (from tensorboard>=1.14->imitation) (1.48.2)\n",
      "Requirement already satisfied: markdown>=2.6.8 in /Users/khoavo2003/anaconda3/envs/cr37/lib/python3.11/site-packages (from tensorboard>=1.14->imitation) (3.4.1)\n",
      "Requirement already satisfied: setuptools>=41.0.0 in /Users/khoavo2003/anaconda3/envs/cr37/lib/python3.11/site-packages (from tensorboard>=1.14->imitation) (65.5.0)\n",
      "Requirement already satisfied: google-auth-oauthlib<1.1,>=0.5 in /Users/khoavo2003/anaconda3/envs/cr37/lib/python3.11/site-packages (from tensorboard>=1.14->imitation) (0.5.2)\n",
      "Requirement already satisfied: werkzeug>=1.0.1 in /Users/khoavo2003/anaconda3/envs/cr37/lib/python3.11/site-packages (from tensorboard>=1.14->imitation) (2.2.3)\n",
      "Requirement already satisfied: tensorboard-data-server<0.8.0,>=0.7.0 in /Users/khoavo2003/anaconda3/envs/cr37/lib/python3.11/site-packages (from tensorboard>=1.14->imitation) (0.7.0)\n",
      "Requirement already satisfied: pyasn1-modules>=0.2.1 in /Users/khoavo2003/anaconda3/envs/cr37/lib/python3.11/site-packages (from google-auth<3,>=1.6.3->tensorboard>=1.14->imitation) (0.2.8)\n",
      "Requirement already satisfied: rsa<5,>=3.1.4 in /Users/khoavo2003/anaconda3/envs/cr37/lib/python3.11/site-packages (from google-auth<3,>=1.6.3->tensorboard>=1.14->imitation) (4.7.2)\n",
      "Requirement already satisfied: cachetools<6.0,>=2.0.0 in /Users/khoavo2003/anaconda3/envs/cr37/lib/python3.11/site-packages (from google-auth<3,>=1.6.3->tensorboard>=1.14->imitation) (4.2.2)\n",
      "Requirement already satisfied: requests-oauthlib>=0.7.0 in /Users/khoavo2003/anaconda3/envs/cr37/lib/python3.11/site-packages (from google-auth-oauthlib<1.1,>=0.5->tensorboard>=1.14->imitation) (1.3.0)\n",
      "Requirement already satisfied: pyasn1<0.5.0,>=0.4.6 in /Users/khoavo2003/anaconda3/envs/cr37/lib/python3.11/site-packages (from pyasn1-modules>=0.2.1->google-auth<3,>=1.6.3->tensorboard>=1.14->imitation) (0.4.8)\n",
      "Requirement already satisfied: oauthlib>=3.0.0 in /Users/khoavo2003/anaconda3/envs/cr37/lib/python3.11/site-packages (from requests-oauthlib>=0.7.0->google-auth-oauthlib<1.1,>=0.5->tensorboard>=1.14->imitation) (3.2.2)\n",
      "Requirement already satisfied: jinja2 in /Users/khoavo2003/anaconda3/envs/cr37/lib/python3.11/site-packages (from torch>=1.4.0->imitation) (3.1.2)\n",
      "Requirement already satisfied: networkx in /Users/khoavo2003/anaconda3/envs/cr37/lib/python3.11/site-packages (from torch>=1.4.0->imitation) (3.1)\n",
      "Requirement already satisfied: sympy in /Users/khoavo2003/anaconda3/envs/cr37/lib/python3.11/site-packages (from torch>=1.4.0->imitation) (1.12)\n",
      "Requirement already satisfied: MarkupSafe>=2.1.1 in /Users/khoavo2003/anaconda3/envs/cr37/lib/python3.11/site-packages (from werkzeug>=1.0.1->tensorboard>=1.14->imitation) (2.1.1)\n",
      "Requirement already satisfied: gitdb<5,>=4.0.1 in /Users/khoavo2003/anaconda3/envs/cr37/lib/python3.11/site-packages (from GitPython->sacred>=0.8.4->imitation) (4.0.10)\n",
      "Requirement already satisfied: smmap<6,>=3.0.1 in /Users/khoavo2003/anaconda3/envs/cr37/lib/python3.11/site-packages (from gitdb<5,>=4.0.1->GitPython->sacred>=0.8.4->imitation) (5.0.1)\n",
      "Requirement already satisfied: cycler>=0.10 in /Users/khoavo2003/anaconda3/envs/cr37/lib/python3.11/site-packages (from matplotlib->imitation) (0.11.0)\n",
      "Requirement already satisfied: python-dateutil>=2.7 in /Users/khoavo2003/anaconda3/envs/cr37/lib/python3.11/site-packages (from matplotlib->imitation) (2.8.2)\n",
      "Requirement already satisfied: kiwisolver>=1.0.1 in /Users/khoavo2003/anaconda3/envs/cr37/lib/python3.11/site-packages (from matplotlib->imitation) (1.4.4)\n",
      "Requirement already satisfied: pillow>=6.2.0 in /Users/khoavo2003/anaconda3/envs/cr37/lib/python3.11/site-packages (from matplotlib->imitation) (10.0.0)\n",
      "Requirement already satisfied: pyparsing<3.1,>=2.3.1 in /Users/khoavo2003/anaconda3/envs/cr37/lib/python3.11/site-packages (from matplotlib->imitation) (3.0.9)\n",
      "Requirement already satisfied: fonttools>=4.22.0 in /Users/khoavo2003/anaconda3/envs/cr37/lib/python3.11/site-packages (from matplotlib->imitation) (4.41.0)\n",
      "Requirement already satisfied: contourpy>=1.0.1 in /Users/khoavo2003/anaconda3/envs/cr37/lib/python3.11/site-packages (from matplotlib->imitation) (1.1.0)\n",
      "Requirement already satisfied: pytz>=2020.1 in /Users/khoavo2003/anaconda3/envs/cr37/lib/python3.11/site-packages (from pandas->datasets>=2.8.0->imitation) (2022.7)\n",
      "Requirement already satisfied: tzdata>=2022.1 in /Users/khoavo2003/anaconda3/envs/cr37/lib/python3.11/site-packages (from pandas->datasets>=2.8.0->imitation) (2023.3)\n",
      "Requirement already satisfied: markdown-it-py>=2.2.0 in /Users/khoavo2003/anaconda3/envs/cr37/lib/python3.11/site-packages (from rich->imitation) (3.0.0)\n",
      "Requirement already satisfied: pygments<3.0.0,>=2.13.0 in /Users/khoavo2003/anaconda3/envs/cr37/lib/python3.11/site-packages (from rich->imitation) (2.15.1)\n",
      "Requirement already satisfied: mdurl~=0.1 in /Users/khoavo2003/anaconda3/envs/cr37/lib/python3.11/site-packages (from markdown-it-py>=2.2.0->rich->imitation) (0.1.2)\n",
      "Requirement already satisfied: mpmath>=0.19 in /Users/khoavo2003/anaconda3/envs/cr37/lib/python3.11/site-packages (from sympy->torch>=1.4.0->imitation) (1.3.0)\n",
      "\u001b[33mWARNING: You are using pip version 21.0; however, version 23.2.1 is available.\n",
      "You should consider upgrading via the '/Users/khoavo2003/anaconda3/envs/cr37/bin/python3 -m pip install --upgrade pip' command.\u001b[0m\n",
      "Requirement already satisfied: highway-env in /Users/khoavo2003/.local/lib/python3.11/site-packages (1.8.2)\n",
      "Requirement already satisfied: numpy in /Users/khoavo2003/anaconda3/envs/cr37/lib/python3.11/site-packages (from highway-env) (1.23.5)\n",
      "Requirement already satisfied: scipy in /Users/khoavo2003/anaconda3/envs/cr37/lib/python3.11/site-packages (from highway-env) (1.10.1)\n",
      "Requirement already satisfied: pygame>=2.0.2 in /Users/khoavo2003/anaconda3/envs/cr37/lib/python3.11/site-packages (from highway-env) (2.1.3)\n",
      "Requirement already satisfied: matplotlib in /Users/khoavo2003/anaconda3/envs/cr37/lib/python3.11/site-packages (from highway-env) (3.7.2)\n",
      "Requirement already satisfied: gymnasium>=0.27 in /Users/khoavo2003/anaconda3/envs/cr37/lib/python3.11/site-packages (from highway-env) (0.28.1)\n",
      "Requirement already satisfied: pandas in /Users/khoavo2003/anaconda3/envs/cr37/lib/python3.11/site-packages (from highway-env) (2.0.3)\n",
      "Requirement already satisfied: farama-notifications>=0.0.1 in /Users/khoavo2003/anaconda3/envs/cr37/lib/python3.11/site-packages (from gymnasium>=0.27->highway-env) (0.0.4)\n",
      "Requirement already satisfied: jax-jumpy>=1.0.0 in /Users/khoavo2003/anaconda3/envs/cr37/lib/python3.11/site-packages (from gymnasium>=0.27->highway-env) (1.0.0)\n",
      "Requirement already satisfied: cloudpickle>=1.2.0 in /Users/khoavo2003/anaconda3/envs/cr37/lib/python3.11/site-packages (from gymnasium>=0.27->highway-env) (2.2.1)\n",
      "Requirement already satisfied: typing-extensions>=4.3.0 in /Users/khoavo2003/anaconda3/envs/cr37/lib/python3.11/site-packages (from gymnasium>=0.27->highway-env) (4.5.0)\n",
      "Requirement already satisfied: fonttools>=4.22.0 in /Users/khoavo2003/anaconda3/envs/cr37/lib/python3.11/site-packages (from matplotlib->highway-env) (4.41.0)\n",
      "Requirement already satisfied: pillow>=6.2.0 in /Users/khoavo2003/anaconda3/envs/cr37/lib/python3.11/site-packages (from matplotlib->highway-env) (10.0.0)\n",
      "Requirement already satisfied: kiwisolver>=1.0.1 in /Users/khoavo2003/anaconda3/envs/cr37/lib/python3.11/site-packages (from matplotlib->highway-env) (1.4.4)\n",
      "Requirement already satisfied: pyparsing<3.1,>=2.3.1 in /Users/khoavo2003/anaconda3/envs/cr37/lib/python3.11/site-packages (from matplotlib->highway-env) (3.0.9)\n",
      "Requirement already satisfied: python-dateutil>=2.7 in /Users/khoavo2003/anaconda3/envs/cr37/lib/python3.11/site-packages (from matplotlib->highway-env) (2.8.2)\n",
      "Requirement already satisfied: contourpy>=1.0.1 in /Users/khoavo2003/anaconda3/envs/cr37/lib/python3.11/site-packages (from matplotlib->highway-env) (1.1.0)\n",
      "Requirement already satisfied: packaging>=20.0 in /Users/khoavo2003/anaconda3/envs/cr37/lib/python3.11/site-packages (from matplotlib->highway-env) (23.0)\n",
      "Requirement already satisfied: cycler>=0.10 in /Users/khoavo2003/anaconda3/envs/cr37/lib/python3.11/site-packages (from matplotlib->highway-env) (0.11.0)\n",
      "Requirement already satisfied: six>=1.5 in /Users/khoavo2003/anaconda3/envs/cr37/lib/python3.11/site-packages (from python-dateutil>=2.7->matplotlib->highway-env) (1.16.0)\n",
      "Requirement already satisfied: pytz>=2020.1 in /Users/khoavo2003/anaconda3/envs/cr37/lib/python3.11/site-packages (from pandas->highway-env) (2022.7)\n",
      "Requirement already satisfied: tzdata>=2022.1 in /Users/khoavo2003/anaconda3/envs/cr37/lib/python3.11/site-packages (from pandas->highway-env) (2023.3)\n",
      "\u001b[33mWARNING: You are using pip version 21.0; however, version 23.2.1 is available.\n",
      "You should consider upgrading via the '/Users/khoavo2003/anaconda3/envs/cr37/bin/python3 -m pip install --upgrade pip' command.\u001b[0m\n"
     ]
    }
   ],
   "source": [
    "!pip3 install -U setuptools==65.5.0 pip==21\n",
    "!pip3 install gymnasium\n",
    "!pip3 install skrl\n",
    "!pip3 install stable_baselines3\n",
    "!pip3 install imitation\n",
    "!pip3 install highway-env"
   ]
  },
  {
   "cell_type": "markdown",
   "metadata": {},
   "source": [
    "# Import library"
   ]
  },
  {
   "cell_type": "code",
   "execution_count": 2,
   "metadata": {},
   "outputs": [],
   "source": [
    "import gymnasium as gym\n",
    "import highway_env\n",
    "import torch\n",
    "import numpy as np\n",
    "# import the skrl components to build the RL system\n",
    "from skrl.agents.torch.dqn import DQN, DQN_DEFAULT_CONFIG\n",
    "from skrl.envs.wrappers.torch import wrap_env\n",
    "from skrl.memories.torch import RandomMemory\n",
    "from skrl.trainers.torch import SequentialTrainer\n",
    "from skrl.utils import set_seed\n",
    "from skrl.utils.model_instantiators.torch import Shape, deterministic_model\n",
    "import numpy as np\n",
    "from stable_baselines3 import PPO\n",
    "from stable_baselines3.common.evaluation import evaluate_policy\n",
    "from stable_baselines3.ppo import MlpPolicy\n",
    "\n",
    "from imitation.algorithms import bc\n",
    "from imitation.data import rollout\n",
    "from imitation.data.wrappers import RolloutInfoWrapper\n",
    "from imitation.policies.serialize import load_policy\n",
    "from imitation.util.util import make_vec_env\n",
    "import gymnasium as gym\n",
    "import highway_env\n",
    "from imitation.algorithms import bc\n",
    "from imitation.algorithms.dagger import SimpleDAggerTrainer\n",
    "from imitation.policies.serialize import load_policy\n",
    "from imitation.util.util import make_vec_env\n",
    "from gymnasium.wrappers.monitoring import video_recorder\n",
    "from gymnasium.wrappers.monitoring.video_recorder import VideoRecorder\n"
   ]
  },
  {
   "cell_type": "markdown",
   "metadata": {},
   "source": [
    "The environment is used is highway-v0, which I showed on the slide"
   ]
  },
  {
   "cell_type": "code",
   "execution_count": 39,
   "metadata": {},
   "outputs": [
    {
     "name": "stderr",
     "output_type": "stream",
     "text": [
      "\u001b[38;20m[skrl:INFO] Seed: 42\u001b[0m\n",
      "/Users/khoavo2003/anaconda3/envs/cr37/lib/python3.11/site-packages/gymnasium/utils/passive_env_checker.py:42: UserWarning: \u001b[33mWARN: A Box observation space has an unconventional shape (neither an image, nor a 1D vector). We recommend flattening the observation to have only a 1D vector or use a custom policy to properly process the data. Actual observation shape: (5, 5)\u001b[0m\n",
      "  logger.warn(\n",
      "\u001b[38;20m[skrl:INFO] Environment class: gymnasium.core.Wrapper, gymnasium.utils.record_constructor.RecordConstructorArgs\u001b[0m\n",
      "\u001b[38;20m[skrl:INFO] Environment wrapper: Gymnasium\u001b[0m\n"
     ]
    }
   ],
   "source": [
    "# seed for reproducibility\n",
    "set_seed(42)  # e.g. `set_seed(42)` for fixed seed\n",
    "\n",
    "\n",
    "# load and wrap the gymnasium environment.\n",
    "# note: the environment version may change depending on the gymnasium version\n",
    "env = gym.make(\"highway-v0\", render_mode='rgb_array')\n",
    "env = wrap_env(env)\n",
    "\n",
    "device = env.device"
   ]
  },
  {
   "cell_type": "code",
   "execution_count": 40,
   "metadata": {},
   "outputs": [],
   "source": [
    "# instantiate a memory as experience replay\n",
    "memory = RandomMemory(memory_size=50000, num_envs=env.num_envs, device=device, replacement=False)"
   ]
  },
  {
   "cell_type": "code",
   "execution_count": 41,
   "metadata": {},
   "outputs": [],
   "source": [
    "\n",
    "# instantiate the agent's models (function approximators) using the model instantiator utility.\n",
    "# DQN requires 2 models, visit its documentation for more details\n",
    "# https://skrl.readthedocs.io/en/latest/api/agents/dqn.html#models\n",
    "models = {}\n",
    "models[\"q_network\"] = deterministic_model(observation_space=env.observation_space,\n",
    "                                          action_space=env.action_space,\n",
    "                                          device=device,\n",
    "                                          clip_actions=False,\n",
    "                                          input_shape=Shape.OBSERVATIONS,\n",
    "                                          hiddens=[64, 64],\n",
    "                                          hidden_activation=[\"relu\", \"relu\"],\n",
    "                                          output_shape=Shape.ACTIONS,\n",
    "                                          output_activation=None,\n",
    "                                          output_scale=1.0)\n",
    "models[\"target_q_network\"] = deterministic_model(observation_space=env.observation_space,\n",
    "                                                 action_space=env.action_space,\n",
    "                                                 device=device,\n",
    "                                                 clip_actions=False,\n",
    "                                                 input_shape=Shape.OBSERVATIONS,\n",
    "                                                 hiddens=[64, 64],\n",
    "                                                 hidden_activation=[\"relu\", \"relu\"],\n",
    "                                                 output_shape=Shape.ACTIONS,\n",
    "                                                 output_activation=None,\n",
    "                                                 output_scale=1.0)"
   ]
  },
  {
   "cell_type": "code",
   "execution_count": 42,
   "metadata": {},
   "outputs": [],
   "source": [
    "# initialize models' parameters (weights and biases)\n",
    "for model in models.values():\n",
    "    model.init_parameters(method_name=\"normal_\", mean=0.0, std=0.1)"
   ]
  },
  {
   "cell_type": "code",
   "execution_count": 43,
   "metadata": {},
   "outputs": [],
   "source": [
    "# configure and instantiate the agent (visit its documentation to see all the options)\n",
    "# https://skrl.readthedocs.io/en/latest/api/agents/dqn.html\n",
    "#configuration-and-hyperparameters\n",
    "cfg = DQN_DEFAULT_CONFIG.copy()\n",
    "cfg[\"learning_starts\"] = 100\n",
    "cfg[\"exploration\"][\"final_epsilon\"] = 0.04\n",
    "cfg[\"exploration\"][\"timesteps\"] = 1500\n",
    "# logging to TensorBoard and write checkpoints (in timesteps)\n",
    "cfg[\"experiment\"][\"write_interval\"] = 1000\n",
    "cfg[\"experiment\"][\"checkpoint_interval\"] = 5000\n",
    "cfg[\"experiment\"][\"directory\"] = \"runs/torch/CartPole\"\n",
    "\n",
    "agent = DQN(models=models,\n",
    "            memory=memory,\n",
    "            cfg=cfg,\n",
    "            observation_space=env.observation_space,\n",
    "            action_space=env.action_space,\n",
    "            device=device)\n",
    "\n"
   ]
  },
  {
   "cell_type": "markdown",
   "metadata": {},
   "source": [
    "# Train example expert"
   ]
  },
  {
   "cell_type": "markdown",
   "metadata": {},
   "source": [
    "Load checkpoint"
   ]
  },
  {
   "cell_type": "code",
   "execution_count": null,
   "metadata": {},
   "outputs": [],
   "source": [
    "agent.load(\"/content/runs/torch/highway-v0/23-09-26_16-06-57-103358_DQN/checkpoints/best_agent.pt\")"
   ]
  },
  {
   "cell_type": "code",
   "execution_count": null,
   "metadata": {},
   "outputs": [],
   "source": [
    "# configure and instantiate the RL trainer\n",
    "cfg_trainer = {\"timesteps\": 50000, \"headless\": True}\n",
    "trainer = SequentialTrainer(cfg=cfg_trainer, env=env, agents=[agent])\n",
    "\n",
    "# start training\n",
    "trainer.train()"
   ]
  },
  {
   "cell_type": "markdown",
   "metadata": {},
   "source": [
    "# Visualize result"
   ]
  },
  {
   "cell_type": "code",
   "execution_count": null,
   "metadata": {},
   "outputs": [],
   "source": [
    "%load_ext tensorboard"
   ]
  },
  {
   "cell_type": "code",
   "execution_count": null,
   "metadata": {},
   "outputs": [],
   "source": [
    "%tensorboard --logdir='/content/runs/torch/highway-v0/23-09-26_17-05-02-586140_DQN' --port 2000"
   ]
  },
  {
   "cell_type": "markdown",
   "metadata": {},
   "source": [
    "# Sample transition"
   ]
  },
  {
   "cell_type": "code",
   "execution_count": 45,
   "metadata": {},
   "outputs": [],
   "source": [
    "# Define the number of episodes to collect transitions\n",
    "num_episodes = 1\n",
    "\n",
    "# Initialize lists to store transitions\n",
    "obs_list, acts_list, infos_list, next_obs_list, dones_list = [], [], [], [], []\n",
    "\n",
    "# Main loop to collect transitions from multiple episodes\n",
    "for _ in range(num_episodes):\n",
    "    # Reset the environment to the initial state\n",
    "    observation, info = env.reset()\n",
    "    done = False\n",
    "\n",
    "    # Episode-specific loop\n",
    "    while not done:\n",
    "        # Take a random action (replace this with your own agent's action)\n",
    "        action = env.action_space.sample()\n",
    "\n",
    "        # Step through the environment with the chosen action\n",
    "        next_observation, reward, done, truncated, info = env.step(action)\n",
    "\n",
    "        # Append transitions to the lists\n",
    "        obs_list.append(observation)\n",
    "        acts_list.append(action)\n",
    "        infos_list.append(info)\n",
    "        next_obs_list.append(next_observation)\n",
    "        dones_list.append(done)\n",
    "\n",
    "        # Update the current observation\n",
    "        observation = next_observation\n",
    "\n",
    "# Close the environment when finished collecting transitions\n",
    "env.close()\n",
    "\n",
    "# Create a dictionary to store the transitions\n",
    "my_transitions = {\n",
    "    \"obs\": obs_list,\n",
    "    \"acts\": acts_list,\n",
    "    \"infos\": infos_list,\n",
    "    \"next_obs\": next_obs_list,\n",
    "    \"dones\": dones_list\n",
    "}\n"
   ]
  },
  {
   "cell_type": "code",
   "execution_count": 46,
   "metadata": {},
   "outputs": [
    {
     "name": "stderr",
     "output_type": "stream",
     "text": [
      "/var/folders/m8/f4qfc7j527x_gzcp82ry99940000gn/T/ipykernel_28646/522751877.py:5: FutureWarning: The input object of type 'Tensor' is an array-like implementing one of the corresponding protocols (`__array__`, `__array_interface__` or `__array_struct__`); but not a sequence (or 0-D). In the future, this object will be coerced as if it was first converted using `np.array(obj)`. To retain the old behaviour, you have to either modify the type 'Tensor', or assign to an empty array created with `np.empty(correct_shape, dtype=object)`.\n",
      "  obs=np.array(my_transitions[\"obs\"]),\n",
      "/var/folders/m8/f4qfc7j527x_gzcp82ry99940000gn/T/ipykernel_28646/522751877.py:5: VisibleDeprecationWarning: Creating an ndarray from ragged nested sequences (which is a list-or-tuple of lists-or-tuples-or ndarrays with different lengths or shapes) is deprecated. If you meant to do this, you must specify 'dtype=object' when creating the ndarray.\n",
      "  obs=np.array(my_transitions[\"obs\"]),\n",
      "/var/folders/m8/f4qfc7j527x_gzcp82ry99940000gn/T/ipykernel_28646/522751877.py:8: FutureWarning: The input object of type 'Tensor' is an array-like implementing one of the corresponding protocols (`__array__`, `__array_interface__` or `__array_struct__`); but not a sequence (or 0-D). In the future, this object will be coerced as if it was first converted using `np.array(obj)`. To retain the old behaviour, you have to either modify the type 'Tensor', or assign to an empty array created with `np.empty(correct_shape, dtype=object)`.\n",
      "  next_obs=np.array(my_transitions[\"next_obs\"]),\n",
      "/var/folders/m8/f4qfc7j527x_gzcp82ry99940000gn/T/ipykernel_28646/522751877.py:8: VisibleDeprecationWarning: Creating an ndarray from ragged nested sequences (which is a list-or-tuple of lists-or-tuples-or ndarrays with different lengths or shapes) is deprecated. If you meant to do this, you must specify 'dtype=object' when creating the ndarray.\n",
      "  next_obs=np.array(my_transitions[\"next_obs\"]),\n",
      "/var/folders/m8/f4qfc7j527x_gzcp82ry99940000gn/T/ipykernel_28646/522751877.py:9: DeprecationWarning: `np.bool` is a deprecated alias for the builtin `bool`. To silence this warning, use `bool` by itself. Doing this will not modify any behavior and is safe. If you specifically wanted the numpy scalar type, use `np.bool_` here.\n",
      "Deprecated in NumPy 1.20; for more details and guidance: https://numpy.org/devdocs/release/1.20.0-notes.html#deprecations\n",
      "  dones=np.array(my_transitions[\"dones\"], dtype=np.bool),\n",
      "/var/folders/m8/f4qfc7j527x_gzcp82ry99940000gn/T/ipykernel_28646/522751877.py:9: FutureWarning: The input object of type 'Tensor' is an array-like implementing one of the corresponding protocols (`__array__`, `__array_interface__` or `__array_struct__`); but not a sequence (or 0-D). In the future, this object will be coerced as if it was first converted using `np.array(obj)`. To retain the old behaviour, you have to either modify the type 'Tensor', or assign to an empty array created with `np.empty(correct_shape, dtype=object)`.\n",
      "  dones=np.array(my_transitions[\"dones\"], dtype=np.bool),\n",
      "/var/folders/m8/f4qfc7j527x_gzcp82ry99940000gn/T/ipykernel_28646/522751877.py:9: DeprecationWarning: setting an array element with a sequence. This was supported in some cases where the elements are arrays with a single element. For example `np.array([1, np.array([2])], dtype=int)`. In the future this will raise the same ValueError as `np.array([1, [2]], dtype=int)`.\n",
      "  dones=np.array(my_transitions[\"dones\"], dtype=np.bool),\n"
     ]
    }
   ],
   "source": [
    "from imitation.data import types\n",
    "\n",
    "def load_custom_transitions(my_transitions):\n",
    "    transitions = types.Transitions(\n",
    "        obs=np.array(my_transitions[\"obs\"]),\n",
    "        acts=np.array(my_transitions[\"acts\"], dtype=np.int32),\n",
    "        infos=my_transitions[\"infos\"],\n",
    "        next_obs=np.array(my_transitions[\"next_obs\"]),\n",
    "        dones=np.array(my_transitions[\"dones\"], dtype=np.bool),\n",
    "    )\n",
    "    return transitions\n",
    "\n",
    "# Load your custom transitions\n",
    "custom_transitions = load_custom_transitions(my_transitions)"
   ]
  },
  {
   "cell_type": "markdown",
   "metadata": {},
   "source": [
    "# Behavior cloning"
   ]
  },
  {
   "cell_type": "markdown",
   "metadata": {},
   "source": [
    "Make the new environment since the old environment is wrapped, thus cannot be use in this case"
   ]
  },
  {
   "cell_type": "code",
   "execution_count": 31,
   "metadata": {},
   "outputs": [
    {
     "name": "stderr",
     "output_type": "stream",
     "text": [
      "/Users/khoavo2003/anaconda3/envs/cr37/lib/python3.11/site-packages/gymnasium/utils/passive_env_checker.py:42: UserWarning: \u001b[33mWARN: A Box observation space has an unconventional shape (neither an image, nor a 1D vector). We recommend flattening the observation to have only a 1D vector or use a custom policy to properly process the data. Actual observation shape: (5, 5)\u001b[0m\n",
      "  logger.warn(\n"
     ]
    }
   ],
   "source": [
    "env1 = gym.make('highway-v0')"
   ]
  },
  {
   "cell_type": "code",
   "execution_count": 49,
   "metadata": {},
   "outputs": [],
   "source": [
    "rng = np.random.default_rng(0)\n",
    "bc_trainer = bc.BC(\n",
    "    observation_space=env1.observation_space,\n",
    "    action_space=env1.action_space,\n",
    "    demonstrations=custom_transitions,\n",
    "    rng=rng,\n",
    ")"
   ]
  },
  {
   "cell_type": "code",
   "execution_count": 50,
   "metadata": {},
   "outputs": [
    {
     "name": "stderr",
     "output_type": "stream",
     "text": [
      "/Users/khoavo2003/anaconda3/envs/cr37/lib/python3.11/site-packages/stable_baselines3/common/evaluation.py:67: UserWarning: Evaluation environment is not wrapped with a ``Monitor`` wrapper. This may result in reporting modified episode lengths and rewards, if other wrappers happen to modify these. Consider wrapping environment first with ``Monitor`` wrapper.\n",
      "  warnings.warn(\n"
     ]
    },
    {
     "name": "stdout",
     "output_type": "stream",
     "text": [
      "Reward before training: 23.385851586858433\n"
     ]
    }
   ],
   "source": [
    "reward, _ = evaluate_policy(\n",
    "    bc_trainer.policy,  # type: ignore[arg-type]\n",
    "    env1,\n",
    "    n_eval_episodes=3,\n",
    ")\n",
    "print(f\"Reward before training: {reward}\")"
   ]
  },
  {
   "cell_type": "code",
   "execution_count": 51,
   "metadata": {},
   "outputs": [
    {
     "name": "stdout",
     "output_type": "stream",
     "text": [
      "Training a policy using Behavior Cloning\n"
     ]
    },
    {
     "name": "stderr",
     "output_type": "stream",
     "text": [
      "0batch [00:00, ?batch/s]"
     ]
    },
    {
     "name": "stdout",
     "output_type": "stream",
     "text": [
      "--------------------------------\n",
      "| batch_size        | 32       |\n",
      "| bc/               |          |\n",
      "|    batch          | 0        |\n",
      "|    ent_loss       | -0.00161 |\n",
      "|    entropy        | 1.61     |\n",
      "|    epoch          | 0        |\n",
      "|    l2_loss        | 0        |\n",
      "|    l2_norm        | 115      |\n",
      "|    loss           | 1.61     |\n",
      "|    neglogp        | 1.61     |\n",
      "|    prob_true_act  | 0.2      |\n",
      "|    samples_so_far | 32       |\n",
      "--------------------------------\n"
     ]
    },
    {
     "name": "stderr",
     "output_type": "stream",
     "text": [
      "100batch [00:00, 114.04batch/s]\n",
      "/Users/khoavo2003/anaconda3/envs/cr37/lib/python3.11/site-packages/stable_baselines3/common/evaluation.py:67: UserWarning: Evaluation environment is not wrapped with a ``Monitor`` wrapper. This may result in reporting modified episode lengths and rewards, if other wrappers happen to modify these. Consider wrapping environment first with ``Monitor`` wrapper.\n",
      "  warnings.warn(\n"
     ]
    },
    {
     "name": "stdout",
     "output_type": "stream",
     "text": [
      "Reward after training: 22.374947667121887\n"
     ]
    }
   ],
   "source": [
    "print(\"Training a policy using Behavior Cloning\")\n",
    "bc_trainer.train(n_epochs=100)\n",
    "\n",
    "reward, _ = evaluate_policy(\n",
    "    bc_trainer.policy,  # type: ignore[arg-type]\n",
    "    env1,\n",
    "    n_eval_episodes=3,\n",
    ")\n",
    "print(f\"Reward after training: {reward}\")"
   ]
  },
  {
   "cell_type": "markdown",
   "metadata": {},
   "source": [
    "## Visualize result"
   ]
  },
  {
   "cell_type": "code",
   "execution_count": 6,
   "metadata": {},
   "outputs": [
    {
     "name": "stderr",
     "output_type": "stream",
     "text": [
      "/Users/khoavo2003/anaconda3/envs/cr37/lib/python3.11/site-packages/gymnasium/utils/passive_env_checker.py:42: UserWarning: \u001b[33mWARN: A Box observation space has an unconventional shape (neither an image, nor a 1D vector). We recommend flattening the observation to have only a 1D vector or use a custom policy to properly process the data. Actual observation shape: (5, 5)\u001b[0m\n",
      "  logger.warn(\n"
     ]
    },
    {
     "ename": "AttributeError",
     "evalue": "module 'gymnasium.wrappers' has no attribute 'Monitor'",
     "output_type": "error",
     "traceback": [
      "\u001b[0;31m---------------------------------------------------------------------------\u001b[0m",
      "\u001b[0;31mAttributeError\u001b[0m                            Traceback (most recent call last)",
      "Cell \u001b[0;32mIn[6], line 6\u001b[0m\n\u001b[1;32m      4\u001b[0m \u001b[39m# Create the CartPole environment\u001b[39;00m\n\u001b[1;32m      5\u001b[0m env \u001b[39m=\u001b[39m gym\u001b[39m.\u001b[39mmake(\u001b[39m\"\u001b[39m\u001b[39mhighway-v0\u001b[39m\u001b[39m\"\u001b[39m, render_mode \u001b[39m=\u001b[39m \u001b[39m'\u001b[39m\u001b[39mrgb_array\u001b[39m\u001b[39m'\u001b[39m)\n\u001b[0;32m----> 6\u001b[0m env \u001b[39m=\u001b[39m gym\u001b[39m.\u001b[39mwrappers\u001b[39m.\u001b[39mMonitor(env, \u001b[39m\"\u001b[39m\u001b[39mcartpole_video.mp4\u001b[39m\u001b[39m\"\u001b[39m)\n\u001b[1;32m      8\u001b[0m \u001b[39m# Counter for completed episodes\u001b[39;00m\n\u001b[1;32m      9\u001b[0m completed_episodes \u001b[39m=\u001b[39m \u001b[39m0\u001b[39m\n",
      "\u001b[0;31mAttributeError\u001b[0m: module 'gymnasium.wrappers' has no attribute 'Monitor'"
     ]
    }
   ],
   "source": [
    "\n",
    "\n",
    "# Create the CartPole environment\n",
    "env = gym.make(\"highway-v0\", render_mode = 'rgb_array')\n",
    "env = gym.wrappers.monitoring.video_recorder(env, \"cartpole_video.mp4\")\n",
    "\n",
    "# Counter for completed episodes\n",
    "completed_episodes = 0\n",
    "\n",
    "# Create a video recorder to capture frames\n",
    "video_recorder = VideoRecorder(env, path=\"cartpole_video.mp4\", enabled=True)\n",
    "\n",
    "# Main loop to visualize the environment until done 3 times\n",
    "while completed_episodes < 3:\n",
    "    # Reset the environment to the initial state\n",
    "    observation, info = env.reset()\n",
    "\n",
    "    # Flag to track if the current episode is done\n",
    "    done = False\n",
    "\n",
    "    # Episode-specific loop\n",
    "    while not done:\n",
    "        # Capture the frame and add it to the video\n",
    "        env.render()\n",
    "        video_recorder.capture_frame()\n",
    "\n",
    "        # Take a random action (replace this with your own agent's action)\n",
    "        action = env.action_space.sample()\n",
    "\n",
    "        # Step through the environment with the chosen action\n",
    "        observation, reward, done, truncated, info = env.step(action)\n",
    "\n",
    "    # Increment the completed episodes counter\n",
    "    completed_episodes += 1\n",
    "\n",
    "# Close the video recorder\n",
    "video_recorder.close()\n",
    "video_recorder.enabled = False\n",
    "\n",
    "# Close the environment when finished\n",
    "env.close()\n"
   ]
  },
  {
   "cell_type": "code",
   "execution_count": 11,
   "metadata": {},
   "outputs": [],
   "source": [
    "from moviepy.video.io.ffmpeg_tools import ffmpeg_extract_subclip"
   ]
  },
  {
   "cell_type": "code",
   "execution_count": 12,
   "metadata": {},
   "outputs": [],
   "source": [
    "import os\n",
    "\n",
    "os.environ[\"IMAGEIO_FFMPEG_EXE\"] = \"/opt/homebrew/Cellar/ffmpeg/5.1/bin/ffmpeg\""
   ]
  },
  {
   "cell_type": "code",
   "execution_count": 3,
   "metadata": {},
   "outputs": [
    {
     "name": "stderr",
     "output_type": "stream",
     "text": [
      "<>:5: SyntaxWarning: \"is not\" with a literal. Did you mean \"!=\"?\n",
      "<>:5: SyntaxWarning: \"is not\" with a literal. Did you mean \"!=\"?\n",
      "/Users/khoavo2003/anaconda3/envs/cr37/lib/python3.11/site-packages/gymnasium/utils/passive_env_checker.py:42: UserWarning: \u001b[33mWARN: A Box observation space has an unconventional shape (neither an image, nor a 1D vector). We recommend flattening the observation to have only a 1D vector or use a custom policy to properly process the data. Actual observation shape: (5, 5)\u001b[0m\n",
      "  logger.warn(\n",
      "/var/folders/m8/f4qfc7j527x_gzcp82ry99940000gn/T/ipykernel_12897/2333137381.py:5: SyntaxWarning: \"is not\" with a literal. Did you mean \"!=\"?\n",
      "  env, \"highway.mp4\", enabled=\"highway.mp4\" is not None)\n"
     ]
    },
    {
     "name": "stdout",
     "output_type": "stream",
     "text": [
      "Saved video.\n",
      "Moviepy - Building video highway.mp4.\n",
      "Moviepy - Writing video highway.mp4\n",
      "\n"
     ]
    },
    {
     "name": "stderr",
     "output_type": "stream",
     "text": [
      "                                                   "
     ]
    },
    {
     "name": "stdout",
     "output_type": "stream",
     "text": [
      "Moviepy - Done !\n",
      "Moviepy - video ready highway.mp4\n"
     ]
    },
    {
     "name": "stderr",
     "output_type": "stream",
     "text": [
      "\r"
     ]
    }
   ],
   "source": [
    "num_episodes = 0\n",
    "video_recorder = None\n",
    "env = gym.make(\"highway-v0\", render_mode = 'rgb_array')\n",
    "video_recorder = VideoRecorder(\n",
    "    env, \"highway.mp4\", enabled=\"highway.mp4\" is not None)\n",
    "obs = env.reset()\n",
    "while True:\n",
    "    env.unwrapped.render()\n",
    "    video_recorder.capture_frame()\n",
    "    action = env.action_space.sample()\n",
    "    obs, rew, done, truncated, info = env.step(action)\n",
    "    if done and truncated:\n",
    "        print(\"Saved video.\")\n",
    "        video_recorder.close()\n",
    "        video_recorder.enabled = False\n",
    "        break"
   ]
  },
  {
   "cell_type": "code",
   "execution_count": 10,
   "metadata": {},
   "outputs": [],
   "source": [
    "video_recorder.close()\n",
    "video_recorder.enabled = False"
   ]
  },
  {
   "cell_type": "code",
   "execution_count": 11,
   "metadata": {},
   "outputs": [
    {
     "data": {
      "text/plain": [
       "True"
      ]
     },
     "execution_count": 11,
     "metadata": {},
     "output_type": "execute_result"
    }
   ],
   "source": [
    "truncated"
   ]
  },
  {
   "cell_type": "code",
   "execution_count": null,
   "metadata": {},
   "outputs": [],
   "source": []
  }
 ],
 "metadata": {
  "kernelspec": {
   "display_name": "cr37",
   "language": "python",
   "name": "python3"
  },
  "language_info": {
   "codemirror_mode": {
    "name": "ipython",
    "version": 3
   },
   "file_extension": ".py",
   "mimetype": "text/x-python",
   "name": "python",
   "nbconvert_exporter": "python",
   "pygments_lexer": "ipython3",
   "version": "3.11.0"
  },
  "orig_nbformat": 4
 },
 "nbformat": 4,
 "nbformat_minor": 2
}
