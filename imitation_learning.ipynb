{
 "cells": [
  {
   "cell_type": "code",
   "execution_count": 1,
   "metadata": {},
   "outputs": [
    {
     "name": "stdout",
     "output_type": "stream",
     "text": [
      "Requirement already satisfied: setuptools==65.5.0 in /Users/khoavo2003/anaconda3/envs/cr37/lib/python3.11/site-packages (65.5.0)\n",
      "Collecting setuptools==65.5.0\n",
      "  Using cached setuptools-65.5.0-py3-none-any.whl (1.2 MB)\n",
      "Requirement already satisfied: pip==21 in /Users/khoavo2003/anaconda3/envs/cr37/lib/python3.11/site-packages (21.0)\n",
      "Collecting pip==21\n",
      "  Using cached pip-21.0-py3-none-any.whl (1.5 MB)\n",
      "\u001b[33mWARNING: You are using pip version 21.0; however, version 23.2.1 is available.\n",
      "You should consider upgrading via the '/Users/khoavo2003/anaconda3/envs/cr37/bin/python3 -m pip install --upgrade pip' command.\u001b[0m\n",
      "Requirement already satisfied: gymnasium in /Users/khoavo2003/anaconda3/envs/cr37/lib/python3.11/site-packages (0.28.1)\n",
      "Requirement already satisfied: farama-notifications>=0.0.1 in /Users/khoavo2003/anaconda3/envs/cr37/lib/python3.11/site-packages (from gymnasium) (0.0.4)\n",
      "Requirement already satisfied: typing-extensions>=4.3.0 in /Users/khoavo2003/anaconda3/envs/cr37/lib/python3.11/site-packages (from gymnasium) (4.5.0)\n",
      "Requirement already satisfied: cloudpickle>=1.2.0 in /Users/khoavo2003/anaconda3/envs/cr37/lib/python3.11/site-packages (from gymnasium) (2.2.1)\n",
      "Requirement already satisfied: jax-jumpy>=1.0.0 in /Users/khoavo2003/anaconda3/envs/cr37/lib/python3.11/site-packages (from gymnasium) (1.0.0)\n",
      "Requirement already satisfied: numpy>=1.21.0 in /Users/khoavo2003/anaconda3/envs/cr37/lib/python3.11/site-packages (from gymnasium) (1.23.5)\n",
      "\u001b[33mWARNING: You are using pip version 21.0; however, version 23.2.1 is available.\n",
      "You should consider upgrading via the '/Users/khoavo2003/anaconda3/envs/cr37/bin/python3 -m pip install --upgrade pip' command.\u001b[0m\n",
      "Requirement already satisfied: skrl in /Users/khoavo2003/anaconda3/envs/cr37/lib/python3.11/site-packages (1.0.0)\n",
      "Requirement already satisfied: tensorboard in /Users/khoavo2003/anaconda3/envs/cr37/lib/python3.11/site-packages (from skrl) (2.12.3)\n",
      "Requirement already satisfied: gym in /Users/khoavo2003/anaconda3/envs/cr37/lib/python3.11/site-packages (from skrl) (0.21.0)\n",
      "Requirement already satisfied: tqdm in /Users/khoavo2003/anaconda3/envs/cr37/lib/python3.11/site-packages (from skrl) (4.66.1)\n",
      "Requirement already satisfied: packaging in /Users/khoavo2003/anaconda3/envs/cr37/lib/python3.11/site-packages (from skrl) (23.0)\n",
      "Requirement already satisfied: gymnasium in /Users/khoavo2003/anaconda3/envs/cr37/lib/python3.11/site-packages (from skrl) (0.28.1)\n",
      "Requirement already satisfied: numpy>=1.18.0 in /Users/khoavo2003/anaconda3/envs/cr37/lib/python3.11/site-packages (from gym->skrl) (1.23.5)\n",
      "Requirement already satisfied: cloudpickle>=1.2.0 in /Users/khoavo2003/anaconda3/envs/cr37/lib/python3.11/site-packages (from gym->skrl) (2.2.1)\n",
      "Requirement already satisfied: typing-extensions>=4.3.0 in /Users/khoavo2003/anaconda3/envs/cr37/lib/python3.11/site-packages (from gymnasium->skrl) (4.5.0)\n",
      "Requirement already satisfied: farama-notifications>=0.0.1 in /Users/khoavo2003/anaconda3/envs/cr37/lib/python3.11/site-packages (from gymnasium->skrl) (0.0.4)\n",
      "Requirement already satisfied: jax-jumpy>=1.0.0 in /Users/khoavo2003/anaconda3/envs/cr37/lib/python3.11/site-packages (from gymnasium->skrl) (1.0.0)\n",
      "Requirement already satisfied: werkzeug>=1.0.1 in /Users/khoavo2003/anaconda3/envs/cr37/lib/python3.11/site-packages (from tensorboard->skrl) (2.2.3)\n",
      "Requirement already satisfied: setuptools>=41.0.0 in /Users/khoavo2003/anaconda3/envs/cr37/lib/python3.11/site-packages (from tensorboard->skrl) (65.5.0)\n",
      "Requirement already satisfied: grpcio>=1.48.2 in /Users/khoavo2003/anaconda3/envs/cr37/lib/python3.11/site-packages (from tensorboard->skrl) (1.48.2)\n",
      "Requirement already satisfied: google-auth<3,>=1.6.3 in /Users/khoavo2003/anaconda3/envs/cr37/lib/python3.11/site-packages (from tensorboard->skrl) (2.6.0)\n",
      "Requirement already satisfied: requests<3,>=2.21.0 in /Users/khoavo2003/anaconda3/envs/cr37/lib/python3.11/site-packages (from tensorboard->skrl) (2.25.1)\n",
      "Requirement already satisfied: tensorboard-data-server<0.8.0,>=0.7.0 in /Users/khoavo2003/anaconda3/envs/cr37/lib/python3.11/site-packages (from tensorboard->skrl) (0.7.0)\n",
      "Requirement already satisfied: absl-py>=0.4 in /Users/khoavo2003/anaconda3/envs/cr37/lib/python3.11/site-packages (from tensorboard->skrl) (1.4.0)\n",
      "Requirement already satisfied: markdown>=2.6.8 in /Users/khoavo2003/anaconda3/envs/cr37/lib/python3.11/site-packages (from tensorboard->skrl) (3.4.1)\n",
      "Requirement already satisfied: protobuf>=3.19.6 in /Users/khoavo2003/anaconda3/envs/cr37/lib/python3.11/site-packages (from tensorboard->skrl) (4.24.0)\n",
      "Requirement already satisfied: google-auth-oauthlib<1.1,>=0.5 in /Users/khoavo2003/anaconda3/envs/cr37/lib/python3.11/site-packages (from tensorboard->skrl) (0.5.2)\n",
      "Requirement already satisfied: wheel>=0.26 in /Users/khoavo2003/anaconda3/envs/cr37/lib/python3.11/site-packages (from tensorboard->skrl) (0.40.0)\n",
      "Requirement already satisfied: cachetools<6.0,>=2.0.0 in /Users/khoavo2003/anaconda3/envs/cr37/lib/python3.11/site-packages (from google-auth<3,>=1.6.3->tensorboard->skrl) (4.2.2)\n",
      "Requirement already satisfied: rsa<5,>=3.1.4 in /Users/khoavo2003/anaconda3/envs/cr37/lib/python3.11/site-packages (from google-auth<3,>=1.6.3->tensorboard->skrl) (4.7.2)\n",
      "Requirement already satisfied: pyasn1-modules>=0.2.1 in /Users/khoavo2003/anaconda3/envs/cr37/lib/python3.11/site-packages (from google-auth<3,>=1.6.3->tensorboard->skrl) (0.2.8)\n",
      "Requirement already satisfied: six>=1.9.0 in /Users/khoavo2003/anaconda3/envs/cr37/lib/python3.11/site-packages (from google-auth<3,>=1.6.3->tensorboard->skrl) (1.16.0)\n",
      "Requirement already satisfied: requests-oauthlib>=0.7.0 in /Users/khoavo2003/anaconda3/envs/cr37/lib/python3.11/site-packages (from google-auth-oauthlib<1.1,>=0.5->tensorboard->skrl) (1.3.0)\n",
      "Requirement already satisfied: pyasn1<0.5.0,>=0.4.6 in /Users/khoavo2003/anaconda3/envs/cr37/lib/python3.11/site-packages (from pyasn1-modules>=0.2.1->google-auth<3,>=1.6.3->tensorboard->skrl) (0.4.8)\n",
      "Requirement already satisfied: urllib3<1.27,>=1.21.1 in /Users/khoavo2003/anaconda3/envs/cr37/lib/python3.11/site-packages (from requests<3,>=2.21.0->tensorboard->skrl) (1.26.16)\n",
      "Requirement already satisfied: certifi>=2017.4.17 in /Users/khoavo2003/anaconda3/envs/cr37/lib/python3.11/site-packages (from requests<3,>=2.21.0->tensorboard->skrl) (2023.7.22)\n",
      "Requirement already satisfied: chardet<5,>=3.0.2 in /Users/khoavo2003/anaconda3/envs/cr37/lib/python3.11/site-packages (from requests<3,>=2.21.0->tensorboard->skrl) (4.0.0)\n",
      "Requirement already satisfied: idna<3,>=2.5 in /Users/khoavo2003/anaconda3/envs/cr37/lib/python3.11/site-packages (from requests<3,>=2.21.0->tensorboard->skrl) (2.10)\n",
      "Requirement already satisfied: oauthlib>=3.0.0 in /Users/khoavo2003/anaconda3/envs/cr37/lib/python3.11/site-packages (from requests-oauthlib>=0.7.0->google-auth-oauthlib<1.1,>=0.5->tensorboard->skrl) (3.2.2)\n",
      "Requirement already satisfied: MarkupSafe>=2.1.1 in /Users/khoavo2003/anaconda3/envs/cr37/lib/python3.11/site-packages (from werkzeug>=1.0.1->tensorboard->skrl) (2.1.1)\n",
      "\u001b[33mWARNING: You are using pip version 21.0; however, version 23.2.1 is available.\n",
      "You should consider upgrading via the '/Users/khoavo2003/anaconda3/envs/cr37/bin/python3 -m pip install --upgrade pip' command.\u001b[0m\n",
      "Requirement already satisfied: stable_baselines3 in /Users/khoavo2003/anaconda3/envs/cr37/lib/python3.11/site-packages (2.1.0)\n",
      "Requirement already satisfied: gymnasium<0.30,>=0.28.1 in /Users/khoavo2003/anaconda3/envs/cr37/lib/python3.11/site-packages (from stable_baselines3) (0.28.1)\n",
      "Requirement already satisfied: numpy>=1.20 in /Users/khoavo2003/anaconda3/envs/cr37/lib/python3.11/site-packages (from stable_baselines3) (1.23.5)\n",
      "Requirement already satisfied: cloudpickle in /Users/khoavo2003/anaconda3/envs/cr37/lib/python3.11/site-packages (from stable_baselines3) (2.2.1)\n",
      "Requirement already satisfied: torch>=1.13 in /Users/khoavo2003/anaconda3/envs/cr37/lib/python3.11/site-packages (from stable_baselines3) (2.0.1)\n",
      "Requirement already satisfied: pandas in /Users/khoavo2003/anaconda3/envs/cr37/lib/python3.11/site-packages (from stable_baselines3) (2.0.3)\n",
      "Requirement already satisfied: matplotlib in /Users/khoavo2003/anaconda3/envs/cr37/lib/python3.11/site-packages (from stable_baselines3) (3.7.2)\n",
      "Requirement already satisfied: farama-notifications>=0.0.1 in /Users/khoavo2003/anaconda3/envs/cr37/lib/python3.11/site-packages (from gymnasium<0.30,>=0.28.1->stable_baselines3) (0.0.4)\n",
      "Requirement already satisfied: jax-jumpy>=1.0.0 in /Users/khoavo2003/anaconda3/envs/cr37/lib/python3.11/site-packages (from gymnasium<0.30,>=0.28.1->stable_baselines3) (1.0.0)\n",
      "Requirement already satisfied: typing-extensions>=4.3.0 in /Users/khoavo2003/anaconda3/envs/cr37/lib/python3.11/site-packages (from gymnasium<0.30,>=0.28.1->stable_baselines3) (4.5.0)\n",
      "Requirement already satisfied: filelock in /Users/khoavo2003/anaconda3/envs/cr37/lib/python3.11/site-packages (from torch>=1.13->stable_baselines3) (3.0.12)\n",
      "Requirement already satisfied: networkx in /Users/khoavo2003/anaconda3/envs/cr37/lib/python3.11/site-packages (from torch>=1.13->stable_baselines3) (3.1)\n",
      "Requirement already satisfied: sympy in /Users/khoavo2003/anaconda3/envs/cr37/lib/python3.11/site-packages (from torch>=1.13->stable_baselines3) (1.12)\n",
      "Requirement already satisfied: jinja2 in /Users/khoavo2003/anaconda3/envs/cr37/lib/python3.11/site-packages (from torch>=1.13->stable_baselines3) (3.1.2)\n",
      "Requirement already satisfied: MarkupSafe>=2.0 in /Users/khoavo2003/anaconda3/envs/cr37/lib/python3.11/site-packages (from jinja2->torch>=1.13->stable_baselines3) (2.1.1)\n",
      "Requirement already satisfied: pyparsing<3.1,>=2.3.1 in /Users/khoavo2003/anaconda3/envs/cr37/lib/python3.11/site-packages (from matplotlib->stable_baselines3) (3.0.9)\n",
      "Requirement already satisfied: contourpy>=1.0.1 in /Users/khoavo2003/anaconda3/envs/cr37/lib/python3.11/site-packages (from matplotlib->stable_baselines3) (1.1.0)\n",
      "Requirement already satisfied: fonttools>=4.22.0 in /Users/khoavo2003/anaconda3/envs/cr37/lib/python3.11/site-packages (from matplotlib->stable_baselines3) (4.41.0)\n",
      "Requirement already satisfied: kiwisolver>=1.0.1 in /Users/khoavo2003/anaconda3/envs/cr37/lib/python3.11/site-packages (from matplotlib->stable_baselines3) (1.4.4)\n",
      "Requirement already satisfied: cycler>=0.10 in /Users/khoavo2003/anaconda3/envs/cr37/lib/python3.11/site-packages (from matplotlib->stable_baselines3) (0.11.0)\n",
      "Requirement already satisfied: packaging>=20.0 in /Users/khoavo2003/anaconda3/envs/cr37/lib/python3.11/site-packages (from matplotlib->stable_baselines3) (23.0)\n",
      "Requirement already satisfied: python-dateutil>=2.7 in /Users/khoavo2003/anaconda3/envs/cr37/lib/python3.11/site-packages (from matplotlib->stable_baselines3) (2.8.2)\n",
      "Requirement already satisfied: pillow>=6.2.0 in /Users/khoavo2003/anaconda3/envs/cr37/lib/python3.11/site-packages (from matplotlib->stable_baselines3) (10.0.0)\n",
      "Requirement already satisfied: six>=1.5 in /Users/khoavo2003/anaconda3/envs/cr37/lib/python3.11/site-packages (from python-dateutil>=2.7->matplotlib->stable_baselines3) (1.16.0)\n",
      "Requirement already satisfied: pytz>=2020.1 in /Users/khoavo2003/anaconda3/envs/cr37/lib/python3.11/site-packages (from pandas->stable_baselines3) (2022.7)\n",
      "Requirement already satisfied: tzdata>=2022.1 in /Users/khoavo2003/anaconda3/envs/cr37/lib/python3.11/site-packages (from pandas->stable_baselines3) (2023.3)\n",
      "Requirement already satisfied: mpmath>=0.19 in /Users/khoavo2003/anaconda3/envs/cr37/lib/python3.11/site-packages (from sympy->torch>=1.13->stable_baselines3) (1.3.0)\n",
      "\u001b[33mWARNING: You are using pip version 21.0; however, version 23.2.1 is available.\n",
      "You should consider upgrading via the '/Users/khoavo2003/anaconda3/envs/cr37/bin/python3 -m pip install --upgrade pip' command.\u001b[0m\n",
      "Requirement already satisfied: imitation in /Users/khoavo2003/cs224/imitation/src (0.4.1.dev148597755)\n",
      "Requirement already satisfied: gymnasium[classic-control]~=0.28.1 in /Users/khoavo2003/anaconda3/envs/cr37/lib/python3.11/site-packages (from imitation) (0.28.1)\n",
      "Requirement already satisfied: matplotlib in /Users/khoavo2003/anaconda3/envs/cr37/lib/python3.11/site-packages (from imitation) (3.7.2)\n",
      "Requirement already satisfied: numpy>=1.15 in /Users/khoavo2003/anaconda3/envs/cr37/lib/python3.11/site-packages (from imitation) (1.23.5)\n",
      "Requirement already satisfied: torch>=1.4.0 in /Users/khoavo2003/anaconda3/envs/cr37/lib/python3.11/site-packages (from imitation) (2.0.1)\n",
      "Requirement already satisfied: tqdm in /Users/khoavo2003/anaconda3/envs/cr37/lib/python3.11/site-packages (from imitation) (4.66.1)\n",
      "Requirement already satisfied: rich in /Users/khoavo2003/anaconda3/envs/cr37/lib/python3.11/site-packages (from imitation) (13.5.3)\n",
      "Requirement already satisfied: scikit-learn>=0.21.2 in /Users/khoavo2003/anaconda3/envs/cr37/lib/python3.11/site-packages (from imitation) (1.3.0)\n",
      "Requirement already satisfied: seals~=0.2.1 in /Users/khoavo2003/anaconda3/envs/cr37/lib/python3.11/site-packages (from imitation) (0.2.1)\n",
      "Requirement already satisfied: stable-baselines3~=2.0 in /Users/khoavo2003/anaconda3/envs/cr37/lib/python3.11/site-packages (from imitation) (2.1.0)\n",
      "Requirement already satisfied: sacred>=0.8.4 in /Users/khoavo2003/anaconda3/envs/cr37/lib/python3.11/site-packages (from imitation) (0.8.4)\n",
      "Requirement already satisfied: tensorboard>=1.14 in /Users/khoavo2003/anaconda3/envs/cr37/lib/python3.11/site-packages (from imitation) (2.12.3)\n",
      "Requirement already satisfied: huggingface_sb3~=3.0 in /Users/khoavo2003/anaconda3/envs/cr37/lib/python3.11/site-packages (from imitation) (3.0)\n",
      "Requirement already satisfied: datasets>=2.8.0 in /Users/khoavo2003/anaconda3/envs/cr37/lib/python3.11/site-packages (from imitation) (2.14.5)\n",
      "Requirement already satisfied: multiprocess in /Users/khoavo2003/anaconda3/envs/cr37/lib/python3.11/site-packages (from datasets>=2.8.0->imitation) (0.70.15)\n",
      "Requirement already satisfied: aiohttp in /Users/khoavo2003/anaconda3/envs/cr37/lib/python3.11/site-packages (from datasets>=2.8.0->imitation) (3.8.3)\n",
      "Requirement already satisfied: xxhash in /Users/khoavo2003/anaconda3/envs/cr37/lib/python3.11/site-packages (from datasets>=2.8.0->imitation) (3.3.0)\n",
      "Requirement already satisfied: requests>=2.19.0 in /Users/khoavo2003/anaconda3/envs/cr37/lib/python3.11/site-packages (from datasets>=2.8.0->imitation) (2.25.1)\n",
      "Requirement already satisfied: pyarrow>=8.0.0 in /Users/khoavo2003/anaconda3/envs/cr37/lib/python3.11/site-packages (from datasets>=2.8.0->imitation) (13.0.0)\n",
      "Requirement already satisfied: fsspec[http]<2023.9.0,>=2023.1.0 in /Users/khoavo2003/anaconda3/envs/cr37/lib/python3.11/site-packages (from datasets>=2.8.0->imitation) (2023.6.0)\n",
      "Requirement already satisfied: packaging in /Users/khoavo2003/anaconda3/envs/cr37/lib/python3.11/site-packages (from datasets>=2.8.0->imitation) (23.0)\n",
      "Requirement already satisfied: dill<0.3.8,>=0.3.0 in /Users/khoavo2003/anaconda3/envs/cr37/lib/python3.11/site-packages (from datasets>=2.8.0->imitation) (0.3.7)\n",
      "Requirement already satisfied: huggingface-hub<1.0.0,>=0.14.0 in /Users/khoavo2003/anaconda3/envs/cr37/lib/python3.11/site-packages (from datasets>=2.8.0->imitation) (0.17.1)\n",
      "Requirement already satisfied: pyyaml>=5.1 in /Users/khoavo2003/anaconda3/envs/cr37/lib/python3.11/site-packages (from datasets>=2.8.0->imitation) (6.0)\n",
      "Requirement already satisfied: pandas in /Users/khoavo2003/anaconda3/envs/cr37/lib/python3.11/site-packages (from datasets>=2.8.0->imitation) (2.0.3)\n",
      "Requirement already satisfied: async-timeout<5.0,>=4.0.0a3 in /Users/khoavo2003/anaconda3/envs/cr37/lib/python3.11/site-packages (from aiohttp->datasets>=2.8.0->imitation) (4.0.2)\n",
      "Requirement already satisfied: attrs>=17.3.0 in /Users/khoavo2003/anaconda3/envs/cr37/lib/python3.11/site-packages (from aiohttp->datasets>=2.8.0->imitation) (22.1.0)\n",
      "Requirement already satisfied: aiosignal>=1.1.2 in /Users/khoavo2003/anaconda3/envs/cr37/lib/python3.11/site-packages (from aiohttp->datasets>=2.8.0->imitation) (1.2.0)\n",
      "Requirement already satisfied: frozenlist>=1.1.1 in /Users/khoavo2003/anaconda3/envs/cr37/lib/python3.11/site-packages (from aiohttp->datasets>=2.8.0->imitation) (1.3.3)\n",
      "Requirement already satisfied: charset-normalizer<3.0,>=2.0 in /Users/khoavo2003/anaconda3/envs/cr37/lib/python3.11/site-packages (from aiohttp->datasets>=2.8.0->imitation) (2.0.4)\n",
      "Requirement already satisfied: yarl<2.0,>=1.0 in /Users/khoavo2003/anaconda3/envs/cr37/lib/python3.11/site-packages (from aiohttp->datasets>=2.8.0->imitation) (1.8.1)\n",
      "Requirement already satisfied: multidict<7.0,>=4.5 in /Users/khoavo2003/anaconda3/envs/cr37/lib/python3.11/site-packages (from aiohttp->datasets>=2.8.0->imitation) (6.0.2)\n",
      "Requirement already satisfied: farama-notifications>=0.0.1 in /Users/khoavo2003/anaconda3/envs/cr37/lib/python3.11/site-packages (from gymnasium[classic-control]~=0.28.1->imitation) (0.0.4)\n",
      "Requirement already satisfied: cloudpickle>=1.2.0 in /Users/khoavo2003/anaconda3/envs/cr37/lib/python3.11/site-packages (from gymnasium[classic-control]~=0.28.1->imitation) (2.2.1)\n",
      "Requirement already satisfied: jax-jumpy>=1.0.0 in /Users/khoavo2003/anaconda3/envs/cr37/lib/python3.11/site-packages (from gymnasium[classic-control]~=0.28.1->imitation) (1.0.0)\n",
      "Requirement already satisfied: typing-extensions>=4.3.0 in /Users/khoavo2003/anaconda3/envs/cr37/lib/python3.11/site-packages (from gymnasium[classic-control]~=0.28.1->imitation) (4.5.0)\n",
      "Requirement already satisfied: pygame==2.1.3 in /Users/khoavo2003/anaconda3/envs/cr37/lib/python3.11/site-packages (from gymnasium[classic-control]~=0.28.1->imitation) (2.1.3)\n",
      "Requirement already satisfied: filelock in /Users/khoavo2003/anaconda3/envs/cr37/lib/python3.11/site-packages (from huggingface-hub<1.0.0,>=0.14.0->datasets>=2.8.0->imitation) (3.0.12)\n",
      "Requirement already satisfied: wasabi in /Users/khoavo2003/anaconda3/envs/cr37/lib/python3.11/site-packages (from huggingface_sb3~=3.0->imitation) (1.1.2)\n",
      "Requirement already satisfied: chardet<5,>=3.0.2 in /Users/khoavo2003/anaconda3/envs/cr37/lib/python3.11/site-packages (from requests>=2.19.0->datasets>=2.8.0->imitation) (4.0.0)\n",
      "Requirement already satisfied: urllib3<1.27,>=1.21.1 in /Users/khoavo2003/anaconda3/envs/cr37/lib/python3.11/site-packages (from requests>=2.19.0->datasets>=2.8.0->imitation) (1.26.16)\n",
      "Requirement already satisfied: idna<3,>=2.5 in /Users/khoavo2003/anaconda3/envs/cr37/lib/python3.11/site-packages (from requests>=2.19.0->datasets>=2.8.0->imitation) (2.10)\n",
      "Requirement already satisfied: certifi>=2017.4.17 in /Users/khoavo2003/anaconda3/envs/cr37/lib/python3.11/site-packages (from requests>=2.19.0->datasets>=2.8.0->imitation) (2023.7.22)\n",
      "Requirement already satisfied: jsonpickle>=1.2 in /Users/khoavo2003/anaconda3/envs/cr37/lib/python3.11/site-packages (from sacred>=0.8.4->imitation) (3.0.2)\n",
      "Requirement already satisfied: colorama>=0.4 in /Users/khoavo2003/anaconda3/envs/cr37/lib/python3.11/site-packages (from sacred>=0.8.4->imitation) (0.4.6)\n",
      "Requirement already satisfied: GitPython in /Users/khoavo2003/anaconda3/envs/cr37/lib/python3.11/site-packages (from sacred>=0.8.4->imitation) (3.1.36)\n",
      "Requirement already satisfied: docopt<1.0,>=0.3 in /Users/khoavo2003/anaconda3/envs/cr37/lib/python3.11/site-packages (from sacred>=0.8.4->imitation) (0.6.2)\n",
      "Requirement already satisfied: wrapt<2.0,>=1.0 in /Users/khoavo2003/anaconda3/envs/cr37/lib/python3.11/site-packages (from sacred>=0.8.4->imitation) (1.14.1)\n",
      "Requirement already satisfied: munch<3.0,>=2.5 in /Users/khoavo2003/anaconda3/envs/cr37/lib/python3.11/site-packages (from sacred>=0.8.4->imitation) (2.5.0)\n",
      "Requirement already satisfied: py-cpuinfo>=4.0 in /Users/khoavo2003/anaconda3/envs/cr37/lib/python3.11/site-packages (from sacred>=0.8.4->imitation) (9.0.0)\n",
      "Requirement already satisfied: six in /Users/khoavo2003/anaconda3/envs/cr37/lib/python3.11/site-packages (from munch<3.0,>=2.5->sacred>=0.8.4->imitation) (1.16.0)\n",
      "Requirement already satisfied: threadpoolctl>=2.0.0 in /Users/khoavo2003/anaconda3/envs/cr37/lib/python3.11/site-packages (from scikit-learn>=0.21.2->imitation) (3.2.0)\n",
      "Requirement already satisfied: joblib>=1.1.1 in /Users/khoavo2003/anaconda3/envs/cr37/lib/python3.11/site-packages (from scikit-learn>=0.21.2->imitation) (1.3.1)\n",
      "Requirement already satisfied: scipy>=1.5.0 in /Users/khoavo2003/anaconda3/envs/cr37/lib/python3.11/site-packages (from scikit-learn>=0.21.2->imitation) (1.10.1)\n",
      "Requirement already satisfied: protobuf>=3.19.6 in /Users/khoavo2003/anaconda3/envs/cr37/lib/python3.11/site-packages (from tensorboard>=1.14->imitation) (4.24.0)\n",
      "Requirement already satisfied: absl-py>=0.4 in /Users/khoavo2003/anaconda3/envs/cr37/lib/python3.11/site-packages (from tensorboard>=1.14->imitation) (1.4.0)\n",
      "Requirement already satisfied: wheel>=0.26 in /Users/khoavo2003/anaconda3/envs/cr37/lib/python3.11/site-packages (from tensorboard>=1.14->imitation) (0.40.0)\n",
      "Requirement already satisfied: google-auth<3,>=1.6.3 in /Users/khoavo2003/anaconda3/envs/cr37/lib/python3.11/site-packages (from tensorboard>=1.14->imitation) (2.6.0)\n",
      "Requirement already satisfied: grpcio>=1.48.2 in /Users/khoavo2003/anaconda3/envs/cr37/lib/python3.11/site-packages (from tensorboard>=1.14->imitation) (1.48.2)\n",
      "Requirement already satisfied: markdown>=2.6.8 in /Users/khoavo2003/anaconda3/envs/cr37/lib/python3.11/site-packages (from tensorboard>=1.14->imitation) (3.4.1)\n",
      "Requirement already satisfied: setuptools>=41.0.0 in /Users/khoavo2003/anaconda3/envs/cr37/lib/python3.11/site-packages (from tensorboard>=1.14->imitation) (65.5.0)\n",
      "Requirement already satisfied: google-auth-oauthlib<1.1,>=0.5 in /Users/khoavo2003/anaconda3/envs/cr37/lib/python3.11/site-packages (from tensorboard>=1.14->imitation) (0.5.2)\n",
      "Requirement already satisfied: werkzeug>=1.0.1 in /Users/khoavo2003/anaconda3/envs/cr37/lib/python3.11/site-packages (from tensorboard>=1.14->imitation) (2.2.3)\n",
      "Requirement already satisfied: tensorboard-data-server<0.8.0,>=0.7.0 in /Users/khoavo2003/anaconda3/envs/cr37/lib/python3.11/site-packages (from tensorboard>=1.14->imitation) (0.7.0)\n",
      "Requirement already satisfied: pyasn1-modules>=0.2.1 in /Users/khoavo2003/anaconda3/envs/cr37/lib/python3.11/site-packages (from google-auth<3,>=1.6.3->tensorboard>=1.14->imitation) (0.2.8)\n",
      "Requirement already satisfied: rsa<5,>=3.1.4 in /Users/khoavo2003/anaconda3/envs/cr37/lib/python3.11/site-packages (from google-auth<3,>=1.6.3->tensorboard>=1.14->imitation) (4.7.2)\n",
      "Requirement already satisfied: cachetools<6.0,>=2.0.0 in /Users/khoavo2003/anaconda3/envs/cr37/lib/python3.11/site-packages (from google-auth<3,>=1.6.3->tensorboard>=1.14->imitation) (4.2.2)\n",
      "Requirement already satisfied: requests-oauthlib>=0.7.0 in /Users/khoavo2003/anaconda3/envs/cr37/lib/python3.11/site-packages (from google-auth-oauthlib<1.1,>=0.5->tensorboard>=1.14->imitation) (1.3.0)\n",
      "Requirement already satisfied: pyasn1<0.5.0,>=0.4.6 in /Users/khoavo2003/anaconda3/envs/cr37/lib/python3.11/site-packages (from pyasn1-modules>=0.2.1->google-auth<3,>=1.6.3->tensorboard>=1.14->imitation) (0.4.8)\n",
      "Requirement already satisfied: oauthlib>=3.0.0 in /Users/khoavo2003/anaconda3/envs/cr37/lib/python3.11/site-packages (from requests-oauthlib>=0.7.0->google-auth-oauthlib<1.1,>=0.5->tensorboard>=1.14->imitation) (3.2.2)\n",
      "Requirement already satisfied: jinja2 in /Users/khoavo2003/anaconda3/envs/cr37/lib/python3.11/site-packages (from torch>=1.4.0->imitation) (3.1.2)\n",
      "Requirement already satisfied: networkx in /Users/khoavo2003/anaconda3/envs/cr37/lib/python3.11/site-packages (from torch>=1.4.0->imitation) (3.1)\n",
      "Requirement already satisfied: sympy in /Users/khoavo2003/anaconda3/envs/cr37/lib/python3.11/site-packages (from torch>=1.4.0->imitation) (1.12)\n",
      "Requirement already satisfied: MarkupSafe>=2.1.1 in /Users/khoavo2003/anaconda3/envs/cr37/lib/python3.11/site-packages (from werkzeug>=1.0.1->tensorboard>=1.14->imitation) (2.1.1)\n",
      "Requirement already satisfied: gitdb<5,>=4.0.1 in /Users/khoavo2003/anaconda3/envs/cr37/lib/python3.11/site-packages (from GitPython->sacred>=0.8.4->imitation) (4.0.10)\n",
      "Requirement already satisfied: smmap<6,>=3.0.1 in /Users/khoavo2003/anaconda3/envs/cr37/lib/python3.11/site-packages (from gitdb<5,>=4.0.1->GitPython->sacred>=0.8.4->imitation) (5.0.1)\n",
      "Requirement already satisfied: cycler>=0.10 in /Users/khoavo2003/anaconda3/envs/cr37/lib/python3.11/site-packages (from matplotlib->imitation) (0.11.0)\n",
      "Requirement already satisfied: python-dateutil>=2.7 in /Users/khoavo2003/anaconda3/envs/cr37/lib/python3.11/site-packages (from matplotlib->imitation) (2.8.2)\n",
      "Requirement already satisfied: kiwisolver>=1.0.1 in /Users/khoavo2003/anaconda3/envs/cr37/lib/python3.11/site-packages (from matplotlib->imitation) (1.4.4)\n",
      "Requirement already satisfied: pillow>=6.2.0 in /Users/khoavo2003/anaconda3/envs/cr37/lib/python3.11/site-packages (from matplotlib->imitation) (10.0.0)\n",
      "Requirement already satisfied: pyparsing<3.1,>=2.3.1 in /Users/khoavo2003/anaconda3/envs/cr37/lib/python3.11/site-packages (from matplotlib->imitation) (3.0.9)\n",
      "Requirement already satisfied: fonttools>=4.22.0 in /Users/khoavo2003/anaconda3/envs/cr37/lib/python3.11/site-packages (from matplotlib->imitation) (4.41.0)\n",
      "Requirement already satisfied: contourpy>=1.0.1 in /Users/khoavo2003/anaconda3/envs/cr37/lib/python3.11/site-packages (from matplotlib->imitation) (1.1.0)\n",
      "Requirement already satisfied: pytz>=2020.1 in /Users/khoavo2003/anaconda3/envs/cr37/lib/python3.11/site-packages (from pandas->datasets>=2.8.0->imitation) (2022.7)\n",
      "Requirement already satisfied: tzdata>=2022.1 in /Users/khoavo2003/anaconda3/envs/cr37/lib/python3.11/site-packages (from pandas->datasets>=2.8.0->imitation) (2023.3)\n",
      "Requirement already satisfied: markdown-it-py>=2.2.0 in /Users/khoavo2003/anaconda3/envs/cr37/lib/python3.11/site-packages (from rich->imitation) (3.0.0)\n",
      "Requirement already satisfied: pygments<3.0.0,>=2.13.0 in /Users/khoavo2003/anaconda3/envs/cr37/lib/python3.11/site-packages (from rich->imitation) (2.15.1)\n",
      "Requirement already satisfied: mdurl~=0.1 in /Users/khoavo2003/anaconda3/envs/cr37/lib/python3.11/site-packages (from markdown-it-py>=2.2.0->rich->imitation) (0.1.2)\n",
      "Requirement already satisfied: mpmath>=0.19 in /Users/khoavo2003/anaconda3/envs/cr37/lib/python3.11/site-packages (from sympy->torch>=1.4.0->imitation) (1.3.0)\n",
      "\u001b[33mWARNING: You are using pip version 21.0; however, version 23.2.1 is available.\n",
      "You should consider upgrading via the '/Users/khoavo2003/anaconda3/envs/cr37/bin/python3 -m pip install --upgrade pip' command.\u001b[0m\n",
      "Requirement already satisfied: highway-env in /Users/khoavo2003/.local/lib/python3.11/site-packages (1.8.2)\n",
      "Requirement already satisfied: numpy in /Users/khoavo2003/anaconda3/envs/cr37/lib/python3.11/site-packages (from highway-env) (1.23.5)\n",
      "Requirement already satisfied: scipy in /Users/khoavo2003/anaconda3/envs/cr37/lib/python3.11/site-packages (from highway-env) (1.10.1)\n",
      "Requirement already satisfied: pygame>=2.0.2 in /Users/khoavo2003/anaconda3/envs/cr37/lib/python3.11/site-packages (from highway-env) (2.1.3)\n",
      "Requirement already satisfied: matplotlib in /Users/khoavo2003/anaconda3/envs/cr37/lib/python3.11/site-packages (from highway-env) (3.7.2)\n",
      "Requirement already satisfied: gymnasium>=0.27 in /Users/khoavo2003/anaconda3/envs/cr37/lib/python3.11/site-packages (from highway-env) (0.28.1)\n",
      "Requirement already satisfied: pandas in /Users/khoavo2003/anaconda3/envs/cr37/lib/python3.11/site-packages (from highway-env) (2.0.3)\n",
      "Requirement already satisfied: farama-notifications>=0.0.1 in /Users/khoavo2003/anaconda3/envs/cr37/lib/python3.11/site-packages (from gymnasium>=0.27->highway-env) (0.0.4)\n",
      "Requirement already satisfied: jax-jumpy>=1.0.0 in /Users/khoavo2003/anaconda3/envs/cr37/lib/python3.11/site-packages (from gymnasium>=0.27->highway-env) (1.0.0)\n",
      "Requirement already satisfied: cloudpickle>=1.2.0 in /Users/khoavo2003/anaconda3/envs/cr37/lib/python3.11/site-packages (from gymnasium>=0.27->highway-env) (2.2.1)\n",
      "Requirement already satisfied: typing-extensions>=4.3.0 in /Users/khoavo2003/anaconda3/envs/cr37/lib/python3.11/site-packages (from gymnasium>=0.27->highway-env) (4.5.0)\n",
      "Requirement already satisfied: fonttools>=4.22.0 in /Users/khoavo2003/anaconda3/envs/cr37/lib/python3.11/site-packages (from matplotlib->highway-env) (4.41.0)\n",
      "Requirement already satisfied: pillow>=6.2.0 in /Users/khoavo2003/anaconda3/envs/cr37/lib/python3.11/site-packages (from matplotlib->highway-env) (10.0.0)\n",
      "Requirement already satisfied: kiwisolver>=1.0.1 in /Users/khoavo2003/anaconda3/envs/cr37/lib/python3.11/site-packages (from matplotlib->highway-env) (1.4.4)\n",
      "Requirement already satisfied: pyparsing<3.1,>=2.3.1 in /Users/khoavo2003/anaconda3/envs/cr37/lib/python3.11/site-packages (from matplotlib->highway-env) (3.0.9)\n",
      "Requirement already satisfied: python-dateutil>=2.7 in /Users/khoavo2003/anaconda3/envs/cr37/lib/python3.11/site-packages (from matplotlib->highway-env) (2.8.2)\n",
      "Requirement already satisfied: contourpy>=1.0.1 in /Users/khoavo2003/anaconda3/envs/cr37/lib/python3.11/site-packages (from matplotlib->highway-env) (1.1.0)\n",
      "Requirement already satisfied: packaging>=20.0 in /Users/khoavo2003/anaconda3/envs/cr37/lib/python3.11/site-packages (from matplotlib->highway-env) (23.0)\n",
      "Requirement already satisfied: cycler>=0.10 in /Users/khoavo2003/anaconda3/envs/cr37/lib/python3.11/site-packages (from matplotlib->highway-env) (0.11.0)\n",
      "Requirement already satisfied: six>=1.5 in /Users/khoavo2003/anaconda3/envs/cr37/lib/python3.11/site-packages (from python-dateutil>=2.7->matplotlib->highway-env) (1.16.0)\n",
      "Requirement already satisfied: pytz>=2020.1 in /Users/khoavo2003/anaconda3/envs/cr37/lib/python3.11/site-packages (from pandas->highway-env) (2022.7)\n",
      "Requirement already satisfied: tzdata>=2022.1 in /Users/khoavo2003/anaconda3/envs/cr37/lib/python3.11/site-packages (from pandas->highway-env) (2023.3)\n",
      "\u001b[33mWARNING: You are using pip version 21.0; however, version 23.2.1 is available.\n",
      "You should consider upgrading via the '/Users/khoavo2003/anaconda3/envs/cr37/bin/python3 -m pip install --upgrade pip' command.\u001b[0m\n"
     ]
    }
   ],
   "source": [
    "!pip3 install -U setuptools==65.5.0 pip==21\n",
    "!pip3 install gymnasium\n",
    "!pip3 install skrl\n",
    "!pip3 install stable_baselines3\n",
    "!pip3 install imitation\n",
    "!pip3 install highway-env"
   ]
  },
  {
   "cell_type": "markdown",
   "metadata": {},
   "source": [
    "# Import library"
   ]
  },
  {
   "cell_type": "code",
   "execution_count": 11,
   "metadata": {},
   "outputs": [],
   "source": [
    "import gymnasium as gym\n",
    "import highway_env\n",
    "import torch\n",
    "import numpy as np\n",
    "# import the skrl components to build the RL system\n",
    "from skrl.agents.torch.dqn import DDQN, DDQN_DEFAULT_CONFIG\n",
    "from skrl.envs.wrappers.torch import wrap_env\n",
    "from skrl.memories.torch import RandomMemory\n",
    "from skrl.trainers.torch import SequentialTrainer\n",
    "from skrl.utils import set_seed\n",
    "from skrl.utils.model_instantiators.torch import Shape, deterministic_model\n",
    "import numpy as np\n",
    "from stable_baselines3 import PPO\n",
    "from stable_baselines3.common.evaluation import evaluate_policy\n",
    "from stable_baselines3.ppo import MlpPolicy\n",
    "\n",
    "from imitation.algorithms import bc\n",
    "from imitation.data import rollout\n",
    "from imitation.data.wrappers import RolloutInfoWrapper\n",
    "from imitation.policies.serialize import load_policy\n",
    "from imitation.util.util import make_vec_env\n",
    "import gymnasium as gym\n",
    "import highway_env\n",
    "from imitation.algorithms import bc\n",
    "from imitation.algorithms.dagger import SimpleDAggerTrainer\n",
    "from imitation.policies.serialize import load_policy\n",
    "from imitation.util.util import make_vec_env\n",
    "from gymnasium.wrappers.monitoring import video_recorder\n",
    "from gymnasium.wrappers.monitoring.video_recorder import VideoRecorder\n",
    "\n",
    "from skrl.trainers.torch import ParallelTrainer\n",
    "import warnings\n",
    "import os\n",
    "from moviepy.video.io.ffmpeg_tools import ffmpeg_extract_subclip\n",
    "\n",
    "os.environ[\"IMAGEIO_FFMPEG_EXE\"] = \"/opt/homebrew/Cellar/ffmpeg/5.1/bin/ffmpeg\"\n",
    "import gymnasium as gym\n",
    "\n",
    "import torch.nn as nn\n",
    "import torch.nn.functional as F\n",
    "\n",
    "# import the skrl components to build the RL system\n",
    "from skrl.agents.torch.cem import CEM, CEM_DEFAULT_CONFIG\n",
    "from skrl.envs.wrappers.torch import wrap_env\n",
    "from skrl.memories.torch import RandomMemory\n",
    "from skrl.models.torch import CategoricalMixin, Model\n",
    "from skrl.trainers.torch import SequentialTrainer\n",
    "from skrl.utils import set_seed\n",
    "\n"
   ]
  },
  {
   "cell_type": "markdown",
   "metadata": {},
   "source": [
    "# Config\n"
   ]
  },
  {
   "cell_type": "code",
   "execution_count": 12,
   "metadata": {},
   "outputs": [],
   "source": [
    "environment_name = 'highway-v0'"
   ]
  },
  {
   "cell_type": "markdown",
   "metadata": {},
   "source": [
    "The environment is used is highway-v0, which I showed on the slide"
   ]
  },
  {
   "cell_type": "code",
   "execution_count": 13,
   "metadata": {},
   "outputs": [
    {
     "name": "stderr",
     "output_type": "stream",
     "text": [
      "\u001b[38;20m[skrl:INFO] Seed: 2049615147\u001b[0m\n",
      "/Users/khoavo2003/anaconda3/envs/cr37/lib/python3.11/site-packages/gymnasium/utils/passive_env_checker.py:42: UserWarning: \u001b[33mWARN: A Box observation space has an unconventional shape (neither an image, nor a 1D vector). We recommend flattening the observation to have only a 1D vector or use a custom policy to properly process the data. Actual observation shape: (5, 5)\u001b[0m\n",
      "  logger.warn(\n",
      "\u001b[38;20m[skrl:INFO] Environment class: gymnasium.core.Wrapper, gymnasium.utils.record_constructor.RecordConstructorArgs\u001b[0m\n",
      "\u001b[38;20m[skrl:INFO] Environment wrapper: Gymnasium\u001b[0m\n"
     ]
    }
   ],
   "source": [
    "# seed for reproducibility\n",
    "set_seed()  # e.g. `set_seed(42)` for fixed seed\n",
    "\n",
    "\n",
    "# define model (categorical model) using mixin\n",
    "class Policy(CategoricalMixin, Model):\n",
    "    def __init__(self, observation_space, action_space, device, unnormalized_log_prob=True):\n",
    "        Model.__init__(self, observation_space, action_space, device)\n",
    "        CategoricalMixin.__init__(self, unnormalized_log_prob)\n",
    "\n",
    "        self.linear_layer_1 = nn.Linear(self.num_observations, 64)\n",
    "        self.linear_layer_2 = nn.Linear(64, 64)\n",
    "        self.output_layer = nn.Linear(64, self.num_actions)\n",
    "\n",
    "    def compute(self, inputs, role):\n",
    "        x = F.relu(self.linear_layer_1(inputs[\"states\"]))\n",
    "        x = F.relu(self.linear_layer_2(x))\n",
    "        return self.output_layer(x), {}\n",
    "\n",
    "\n",
    "# load and wrap the gymnasium environment.\n",
    "# note: the environment version may change depending on the gymnasium version\n",
    "env = gym.make(environment_name, render_mode = 'rgb_array')\n",
    "env = wrap_env(env)\n",
    "\n",
    "device = env.device\n",
    "\n",
    "\n",
    "# instantiate a memory as experience replay\n",
    "memory = RandomMemory(memory_size=1000, num_envs=env.num_envs, device=device, replacement=False)\n",
    "\n",
    "\n",
    "# instantiate the agent's model (function approximator).\n",
    "# CEM requires 1 model, visit its documentation for more details\n",
    "# https://skrl.readthedocs.io/en/latest/api/agents/cem.html#models\n",
    "models = {}\n",
    "models[\"policy\"] = Policy(env.observation_space, env.action_space, device)\n",
    "\n",
    "# initialize models' parameters (weights and biases)\n",
    "for model in models.values():\n",
    "    model.init_parameters(method_name=\"normal_\", mean=0.0, std=0.1)\n",
    "\n",
    "\n",
    "# configure and instantiate the agent (visit its documentation to see all the options)\n",
    "# https://skrl.readthedocs.io/en/latest/api/agents/cem.html#configuration-and-hyperparameters\n",
    "cfg = CEM_DEFAULT_CONFIG.copy()\n",
    "cfg[\"rollouts\"] = 1000\n",
    "cfg[\"learning_starts\"] = 100\n",
    "# logging to TensorBoard and write checkpoints (in timesteps)\n",
    "cfg[\"experiment\"][\"write_interval\"] = 1000\n",
    "cfg[\"experiment\"][\"checkpoint_interval\"] = 1000\n",
    "cfg[\"experiment\"][\"directory\"] = environment_name\n",
    "\n",
    "agent = CEM(models=models,\n",
    "            memory=memory,\n",
    "            cfg=cfg,\n",
    "            observation_space=env.observation_space,\n",
    "            action_space=env.action_space,\n",
    "            device=device)\n"
   ]
  },
  {
   "cell_type": "markdown",
   "metadata": {},
   "source": [
    "# Train example expert"
   ]
  },
  {
   "cell_type": "code",
   "execution_count": 15,
   "metadata": {},
   "outputs": [
    {
     "name": "stderr",
     "output_type": "stream",
     "text": [
      "  0%|          | 0/10000 [00:00<?, ?it/s]"
     ]
    },
    {
     "name": "stderr",
     "output_type": "stream",
     "text": [
      " 75%|███████▌  | 7531/10000 [41:29<13:36,  3.02it/s]  "
     ]
    },
    {
     "name": "stdout",
     "output_type": "stream",
     "text": [
      "Unexpected exception formatting exception. Falling back to standard exception\n"
     ]
    },
    {
     "name": "stderr",
     "output_type": "stream",
     "text": [
      "\n",
      "Traceback (most recent call last):\n",
      "  File \"/Users/khoavo2003/anaconda3/envs/cr37/lib/python3.11/site-packages/IPython/core/interactiveshell.py\", line 3505, in run_code\n",
      "    exec(code_obj, self.user_global_ns, self.user_ns)\n",
      "  File \"/var/folders/m8/f4qfc7j527x_gzcp82ry99940000gn/T/ipykernel_90687/6060953.py\", line 6, in <module>\n",
      "    trainer.train()\n",
      "  File \"/Users/khoavo2003/anaconda3/envs/cr37/lib/python3.11/site-packages/skrl/trainers/torch/sequential.py\", line 77, in train\n",
      "    self.single_agent_train()\n",
      "  File \"/Users/khoavo2003/anaconda3/envs/cr37/lib/python3.11/site-packages/skrl/trainers/torch/base.py\", line 175, in single_agent_train\n",
      "    next_states, rewards, terminated, truncated, infos = self.env.step(actions)\n",
      "                                                         ^^^^^^^^^^^^^^^^^^^^^^\n",
      "  File \"/Users/khoavo2003/anaconda3/envs/cr37/lib/python3.11/site-packages/skrl/envs/wrappers/torch/gymnasium_envs.py\", line 124, in step\n",
      "    observation, reward, terminated, truncated, info = self._env.step(self._tensor_to_action(actions))\n",
      "                                                       ^^^^^^^^^^^^^^^^^^^^^^^^^^^^^^^^^^^^^^^^^^^^^^^\n",
      "  File \"/Users/khoavo2003/anaconda3/envs/cr37/lib/python3.11/site-packages/gymnasium/wrappers/order_enforcing.py\", line 56, in step\n",
      "    return self.env.step(action)\n",
      "           ^^^^^^^^^^^^^^^^^^^^^\n",
      "  File \"/Users/khoavo2003/anaconda3/envs/cr37/lib/python3.11/site-packages/gymnasium/wrappers/env_checker.py\", line 49, in step\n",
      "    return self.env.step(action)\n",
      "           ^^^^^^^^^^^^^^^^^^^^^\n",
      "  File \"/Users/khoavo2003/.local/lib/python3.11/site-packages/highway_env/envs/common/abstract.py\", line 235, in step\n",
      "    self._simulate(action)\n",
      "  File \"/Users/khoavo2003/.local/lib/python3.11/site-packages/highway_env/envs/common/abstract.py\", line 257, in _simulate\n",
      "    self.road.act()\n",
      "  File \"/Users/khoavo2003/.local/lib/python3.11/site-packages/highway_env/road/road.py\", line 337, in act\n",
      "    vehicle.act()\n",
      "  File \"/Users/khoavo2003/.local/lib/python3.11/site-packages/highway_env/vehicle/behavior.py\", line 100, in act\n",
      "    front_vehicle, rear_vehicle = self.road.neighbour_vehicles(self, self.lane_index)\n",
      "                                  ^^^^^^^^^^^^^^^^^^^^^^^^^^^^^^^^^^^^^^^^^^^^^^^^^^^\n",
      "  File \"/Users/khoavo2003/.local/lib/python3.11/site-packages/highway_env/road/road.py\", line -1, in neighbour_vehicles\n",
      "KeyboardInterrupt\n",
      "\n",
      "During handling of the above exception, another exception occurred:\n",
      "\n",
      "Traceback (most recent call last):\n",
      "  File \"/Users/khoavo2003/anaconda3/envs/cr37/lib/python3.11/site-packages/IPython/core/interactiveshell.py\", line 2102, in showtraceback\n",
      "    stb = self.InteractiveTB.structured_traceback(\n",
      "          ^^^^^^^^^^^^^^^^^^^^^^^^^^^^^^^^^^^^^^^^\n",
      "  File \"/Users/khoavo2003/anaconda3/envs/cr37/lib/python3.11/site-packages/IPython/core/ultratb.py\", line 1310, in structured_traceback\n",
      "    return FormattedTB.structured_traceback(\n",
      "           ^^^^^^^^^^^^^^^^^^^^^^^^^^^^^^^^^\n",
      "  File \"/Users/khoavo2003/anaconda3/envs/cr37/lib/python3.11/site-packages/IPython/core/ultratb.py\", line 1199, in structured_traceback\n",
      "    return VerboseTB.structured_traceback(\n",
      "           ^^^^^^^^^^^^^^^^^^^^^^^^^^^^^^^\n",
      "  File \"/Users/khoavo2003/anaconda3/envs/cr37/lib/python3.11/site-packages/IPython/core/ultratb.py\", line 1052, in structured_traceback\n",
      "    formatted_exception = self.format_exception_as_a_whole(etype, evalue, etb, number_of_lines_of_context,\n",
      "                          ^^^^^^^^^^^^^^^^^^^^^^^^^^^^^^^^^^^^^^^^^^^^^^^^^^^^^^^^^^^^^^^^^^^^^^^^^^^^^^^^\n",
      "  File \"/Users/khoavo2003/anaconda3/envs/cr37/lib/python3.11/site-packages/IPython/core/ultratb.py\", line 978, in format_exception_as_a_whole\n",
      "    frames.append(self.format_record(record))\n",
      "                  ^^^^^^^^^^^^^^^^^^^^^^^^^^\n",
      "  File \"/Users/khoavo2003/anaconda3/envs/cr37/lib/python3.11/site-packages/IPython/core/ultratb.py\", line 878, in format_record\n",
      "    frame_info.lines, Colors, self.has_colors, lvals\n",
      "    ^^^^^^^^^^^^^^^^\n",
      "  File \"/Users/khoavo2003/anaconda3/envs/cr37/lib/python3.11/site-packages/IPython/core/ultratb.py\", line 712, in lines\n",
      "    return self._sd.lines\n",
      "           ^^^^^^^^^^^^^^\n",
      "  File \"/Users/khoavo2003/anaconda3/envs/cr37/lib/python3.11/site-packages/stack_data/utils.py\", line 145, in cached_property_wrapper\n",
      "    value = obj.__dict__[self.func.__name__] = self.func(obj)\n",
      "                                               ^^^^^^^^^^^^^^\n",
      "  File \"/Users/khoavo2003/anaconda3/envs/cr37/lib/python3.11/site-packages/stack_data/core.py\", line 698, in lines\n",
      "    pieces = self.included_pieces\n",
      "             ^^^^^^^^^^^^^^^^^^^^\n",
      "  File \"/Users/khoavo2003/anaconda3/envs/cr37/lib/python3.11/site-packages/stack_data/utils.py\", line 145, in cached_property_wrapper\n",
      "    value = obj.__dict__[self.func.__name__] = self.func(obj)\n",
      "                                               ^^^^^^^^^^^^^^\n",
      "  File \"/Users/khoavo2003/anaconda3/envs/cr37/lib/python3.11/site-packages/stack_data/core.py\", line 649, in included_pieces\n",
      "    pos = scope_pieces.index(self.executing_piece)\n",
      "                             ^^^^^^^^^^^^^^^^^^^^\n",
      "  File \"/Users/khoavo2003/anaconda3/envs/cr37/lib/python3.11/site-packages/stack_data/utils.py\", line 145, in cached_property_wrapper\n",
      "    value = obj.__dict__[self.func.__name__] = self.func(obj)\n",
      "                                               ^^^^^^^^^^^^^^\n",
      "  File \"/Users/khoavo2003/anaconda3/envs/cr37/lib/python3.11/site-packages/stack_data/core.py\", line 628, in executing_piece\n",
      "    return only(\n",
      "           ^^^^^\n",
      "  File \"/Users/khoavo2003/anaconda3/envs/cr37/lib/python3.11/site-packages/executing/executing.py\", line 164, in only\n",
      "    raise NotOneValueFound('Expected one value, found 0')\n",
      "executing.executing.NotOneValueFound: Expected one value, found 0\n"
     ]
    }
   ],
   "source": [
    "# configure and instantiate the RL trainer\n",
    "cfg_trainer = {\"timesteps\": 10000, \"headless\": False}\n",
    "trainer = SequentialTrainer(cfg=cfg_trainer, env=env, agents=[agent])\n",
    "\n",
    "# start training\n",
    "trainer.train()"
   ]
  },
  {
   "cell_type": "markdown",
   "metadata": {},
   "source": [
    "Load checkpoint"
   ]
  },
  {
   "cell_type": "code",
   "execution_count": null,
   "metadata": {},
   "outputs": [],
   "source": [
    "agent.load(\"CartPole/Experiment_1/23-09-28_13-21-19-369630_DDQN/checkpoints/agent_200000.pt\")"
   ]
  },
  {
   "cell_type": "markdown",
   "metadata": {},
   "source": [
    "# Visualize result"
   ]
  },
  {
   "cell_type": "markdown",
   "metadata": {},
   "source": [
    "Result (loss, reward mean, ...)"
   ]
  },
  {
   "cell_type": "code",
   "execution_count": 24,
   "metadata": {},
   "outputs": [],
   "source": [
    "%reload_ext tensorboard"
   ]
  },
  {
   "cell_type": "code",
   "execution_count": null,
   "metadata": {},
   "outputs": [],
   "source": [
    "%tensorboard --logdir='CartPole/Experiment_1/23-09-26_21-04-24-070438_DQN' --port 2007"
   ]
  },
  {
   "cell_type": "markdown",
   "metadata": {},
   "source": [
    "Make video"
   ]
  },
  {
   "cell_type": "code",
   "execution_count": 16,
   "metadata": {},
   "outputs": [],
   "source": [
    "from matplotlib import animation\n",
    "import matplotlib.pyplot as plt\n",
    "\n",
    "\"\"\"\n",
    "Ensure you have imagemagick installed with \n",
    "sudo apt-get install imagemagick\n",
    "\n",
    "Open file in CLI with:\n",
    "xgd-open <filelname>\n",
    "\"\"\"\n",
    "def save_frames_as_gif(frames, path='./', filename='gym_animation.gif'):\n",
    "\n",
    "    #Mess with this to change frame size\n",
    "    plt.figure(figsize=(frames[0].shape[1] / 72.0, frames[0].shape[0] / 72.0), dpi=72)\n",
    "\n",
    "    patch = plt.imshow(frames[0])\n",
    "    plt.axis('off')\n",
    "\n",
    "    def animate(i):\n",
    "        patch.set_data(frames[i])\n",
    "\n",
    "    anim = animation.FuncAnimation(plt.gcf(), animate, frames = len(frames), interval=50)\n",
    "    anim.save(path + filename, writer='imagemagick', fps=60)"
   ]
  },
  {
   "cell_type": "markdown",
   "metadata": {},
   "source": [
    "# Sample transition"
   ]
  },
  {
   "cell_type": "code",
   "execution_count": 17,
   "metadata": {},
   "outputs": [],
   "source": [
    "# Initialize lists to store transitions\n",
    "obs_list, acts_list, infos_list, next_obs_list, dones_list = [], [], [], [], []"
   ]
  },
  {
   "cell_type": "code",
   "execution_count": 20,
   "metadata": {},
   "outputs": [],
   "source": [
    "obs, info = env.reset()\n",
    "counter = 0\n",
    "episode_len = 15000\n",
    "frames = []\n",
    "\n",
    "# Define the number of episodes to collect transitions\n",
    "num_episodes = 1\n",
    "\n",
    "while True:\n",
    "    frames.append(env.unwrapped.render())\n",
    "    action = agent.act(obs, 0, 1)[0]\n",
    "    next_obs, rew, done, truncated, info = env.step(action)\n",
    "\n",
    "    # Append transitions to the lists\n",
    "    obs_list.append(obs)\n",
    "    acts_list.append(action)\n",
    "    infos_list.append(info)\n",
    "    next_obs_list.append(next_obs)\n",
    "    dones_list.append(done)\n",
    "\n",
    "    # Update the current observation\n",
    "    obs = next_obs\n",
    "\n",
    "    if done or truncated:\n",
    "        break\n",
    "    counter = counter + 1"
   ]
  },
  {
   "cell_type": "code",
   "execution_count": 19,
   "metadata": {},
   "outputs": [
    {
     "data": {
      "image/png": "[encoded data removed]",
      "text/plain": [
       "<Figure size 600x400 with 1 Axes>"
      ]
     },
     "metadata": {},
     "output_type": "display_data"
    }
   ],
   "source": [
    "save_frames_as_gif(frames)"
   ]
  },
  {
   "cell_type": "code",
   "execution_count": 13,
   "metadata": {},
   "outputs": [
    {
     "data": {
      "text/plain": [
       "2500"
      ]
     },
     "execution_count": 13,
     "metadata": {},
     "output_type": "execute_result"
    }
   ],
   "source": [
    "len(obs_list)"
   ]
  },
  {
   "cell_type": "code",
   "execution_count": 14,
   "metadata": {},
   "outputs": [],
   "source": [
    "# Create a dictionary to store the transitions\n",
    "my_transitions = {\n",
    "    \"obs\": obs_list,\n",
    "    \"acts\": acts_list,\n",
    "    \"infos\": infos_list,\n",
    "    \"next_obs\": next_obs_list,\n",
    "    \"dones\": dones_list\n",
    "}"
   ]
  },
  {
   "cell_type": "code",
   "execution_count": 15,
   "metadata": {},
   "outputs": [
    {
     "name": "stderr",
     "output_type": "stream",
     "text": [
      "/var/folders/m8/f4qfc7j527x_gzcp82ry99940000gn/T/ipykernel_85855/522751877.py:5: FutureWarning: The input object of type 'Tensor' is an array-like implementing one of the corresponding protocols (`__array__`, `__array_interface__` or `__array_struct__`); but not a sequence (or 0-D). In the future, this object will be coerced as if it was first converted using `np.array(obj)`. To retain the old behaviour, you have to either modify the type 'Tensor', or assign to an empty array created with `np.empty(correct_shape, dtype=object)`.\n",
      "  obs=np.array(my_transitions[\"obs\"]),\n",
      "/var/folders/m8/f4qfc7j527x_gzcp82ry99940000gn/T/ipykernel_85855/522751877.py:5: VisibleDeprecationWarning: Creating an ndarray from ragged nested sequences (which is a list-or-tuple of lists-or-tuples-or ndarrays with different lengths or shapes) is deprecated. If you meant to do this, you must specify 'dtype=object' when creating the ndarray.\n",
      "  obs=np.array(my_transitions[\"obs\"]),\n",
      "/var/folders/m8/f4qfc7j527x_gzcp82ry99940000gn/T/ipykernel_85855/522751877.py:6: FutureWarning: The input object of type 'Tensor' is an array-like implementing one of the corresponding protocols (`__array__`, `__array_interface__` or `__array_struct__`); but not a sequence (or 0-D). In the future, this object will be coerced as if it was first converted using `np.array(obj)`. To retain the old behaviour, you have to either modify the type 'Tensor', or assign to an empty array created with `np.empty(correct_shape, dtype=object)`.\n",
      "  acts=np.array(my_transitions[\"acts\"], dtype=np.int32),\n",
      "/var/folders/m8/f4qfc7j527x_gzcp82ry99940000gn/T/ipykernel_85855/522751877.py:6: DeprecationWarning: setting an array element with a sequence. This was supported in some cases where the elements are arrays with a single element. For example `np.array([1, np.array([2])], dtype=int)`. In the future this will raise the same ValueError as `np.array([1, [2]], dtype=int)`.\n",
      "  acts=np.array(my_transitions[\"acts\"], dtype=np.int32),\n",
      "/var/folders/m8/f4qfc7j527x_gzcp82ry99940000gn/T/ipykernel_85855/522751877.py:8: FutureWarning: The input object of type 'Tensor' is an array-like implementing one of the corresponding protocols (`__array__`, `__array_interface__` or `__array_struct__`); but not a sequence (or 0-D). In the future, this object will be coerced as if it was first converted using `np.array(obj)`. To retain the old behaviour, you have to either modify the type 'Tensor', or assign to an empty array created with `np.empty(correct_shape, dtype=object)`.\n",
      "  next_obs=np.array(my_transitions[\"next_obs\"]),\n",
      "/var/folders/m8/f4qfc7j527x_gzcp82ry99940000gn/T/ipykernel_85855/522751877.py:8: VisibleDeprecationWarning: Creating an ndarray from ragged nested sequences (which is a list-or-tuple of lists-or-tuples-or ndarrays with different lengths or shapes) is deprecated. If you meant to do this, you must specify 'dtype=object' when creating the ndarray.\n",
      "  next_obs=np.array(my_transitions[\"next_obs\"]),\n",
      "/var/folders/m8/f4qfc7j527x_gzcp82ry99940000gn/T/ipykernel_85855/522751877.py:9: DeprecationWarning: `np.bool` is a deprecated alias for the builtin `bool`. To silence this warning, use `bool` by itself. Doing this will not modify any behavior and is safe. If you specifically wanted the numpy scalar type, use `np.bool_` here.\n",
      "Deprecated in NumPy 1.20; for more details and guidance: https://numpy.org/devdocs/release/1.20.0-notes.html#deprecations\n",
      "  dones=np.array(my_transitions[\"dones\"], dtype=np.bool),\n",
      "/var/folders/m8/f4qfc7j527x_gzcp82ry99940000gn/T/ipykernel_85855/522751877.py:9: FutureWarning: The input object of type 'Tensor' is an array-like implementing one of the corresponding protocols (`__array__`, `__array_interface__` or `__array_struct__`); but not a sequence (or 0-D). In the future, this object will be coerced as if it was first converted using `np.array(obj)`. To retain the old behaviour, you have to either modify the type 'Tensor', or assign to an empty array created with `np.empty(correct_shape, dtype=object)`.\n",
      "  dones=np.array(my_transitions[\"dones\"], dtype=np.bool),\n",
      "/var/folders/m8/f4qfc7j527x_gzcp82ry99940000gn/T/ipykernel_85855/522751877.py:9: DeprecationWarning: setting an array element with a sequence. This was supported in some cases where the elements are arrays with a single element. For example `np.array([1, np.array([2])], dtype=int)`. In the future this will raise the same ValueError as `np.array([1, [2]], dtype=int)`.\n",
      "  dones=np.array(my_transitions[\"dones\"], dtype=np.bool),\n"
     ]
    }
   ],
   "source": [
    "from imitation.data import types\n",
    "\n",
    "def load_custom_transitions(my_transitions):\n",
    "    transitions = types.Transitions(\n",
    "        obs=np.array(my_transitions[\"obs\"]),\n",
    "        acts=np.array(my_transitions[\"acts\"], dtype=np.int32),\n",
    "        infos=my_transitions[\"infos\"],\n",
    "        next_obs=np.array(my_transitions[\"next_obs\"]),\n",
    "        dones=np.array(my_transitions[\"dones\"], dtype=np.bool),\n",
    "    )\n",
    "    return transitions\n",
    "\n",
    "# Load your custom transitions\n",
    "custom_transitions = load_custom_transitions(my_transitions)"
   ]
  },
  {
   "cell_type": "markdown",
   "metadata": {},
   "source": [
    "# Behavior cloning"
   ]
  },
  {
   "cell_type": "markdown",
   "metadata": {},
   "source": [
    "Make the new environment since the old environment is wrapped, thus cannot be use in this case"
   ]
  },
  {
   "cell_type": "code",
   "execution_count": 26,
   "metadata": {},
   "outputs": [],
   "source": [
    "env1 = gym.make('CartPole-v1', render_mode = 'rgb_array')"
   ]
  },
  {
   "cell_type": "code",
   "execution_count": 27,
   "metadata": {},
   "outputs": [],
   "source": [
    "rng = np.random.default_rng(0)\n",
    "bc_trainer = bc.BC(\n",
    "    observation_space=env1.observation_space,\n",
    "    action_space=env1.action_space,\n",
    "    demonstrations=custom_transitions,\n",
    "    rng=rng,\n",
    ")"
   ]
  },
  {
   "cell_type": "code",
   "execution_count": 28,
   "metadata": {},
   "outputs": [
    {
     "name": "stdout",
     "output_type": "stream",
     "text": [
      "Reward before training: 9.6\n"
     ]
    },
    {
     "name": "stderr",
     "output_type": "stream",
     "text": [
      "/Users/khoavo2003/anaconda3/envs/cr37/lib/python3.11/site-packages/stable_baselines3/common/evaluation.py:67: UserWarning: Evaluation environment is not wrapped with a ``Monitor`` wrapper. This may result in reporting modified episode lengths and rewards, if other wrappers happen to modify these. Consider wrapping environment first with ``Monitor`` wrapper.\n",
      "  warnings.warn(\n"
     ]
    }
   ],
   "source": [
    "reward, _ = evaluate_policy(\n",
    "    bc_trainer.policy,  # type: ignore[arg-type]\n",
    "    env1,\n",
    "    n_eval_episodes=10,\n",
    ")\n",
    "print(f\"Reward before training: {reward}\")"
   ]
  },
  {
   "cell_type": "code",
   "execution_count": null,
   "metadata": {},
   "outputs": [],
   "source": [
    "print(\"Training a policy using Behavior Cloning\")\n",
    "bc_trainer.train(n_epochs=1)"
   ]
  },
  {
   "cell_type": "code",
   "execution_count": 30,
   "metadata": {},
   "outputs": [
    {
     "name": "stdout",
     "output_type": "stream",
     "text": [
      "Reward after training: 500.0\n"
     ]
    }
   ],
   "source": [
    "reward, _ = evaluate_policy(\n",
    "    bc_trainer.policy,  # type: ignore[arg-type]\n",
    "    env1,\n",
    "    n_eval_episodes=10,\n",
    ")\n",
    "print(f\"Reward after training: {reward}\")"
   ]
  },
  {
   "cell_type": "markdown",
   "metadata": {},
   "source": [
    "## Visualize result"
   ]
  },
  {
   "cell_type": "code",
   "execution_count": 67,
   "metadata": {},
   "outputs": [],
   "source": [
    "obs, info = env.reset()\n",
    "counter = 0\n",
    "episode_len = 500\n",
    "frames = []\n",
    "\n",
    "# Define the number of episodes to collect transitions\n",
    "num_episodes = 1\n",
    "\n",
    "while True:\n",
    "    frames.append(env.unwrapped.render())\n",
    "    action = bc_trainer.policy.forward(obs)[0]\n",
    "    next_obs, rew, done, truncated, info = env.step(action)\n",
    "\n",
    "    # Update the current observation\n",
    "    obs = next_obs\n",
    "\n",
    "    if done or truncated:\n",
    "        break\n",
    "    counter = counter + 1"
   ]
  },
  {
   "cell_type": "code",
   "execution_count": 69,
   "metadata": {},
   "outputs": [
    {
     "data": {
      "image/png": "[encoded data removed]",
      "text/plain": [
       "<Figure size 600x400 with 1 Axes>"
      ]
     },
     "metadata": {},
     "output_type": "display_data"
    }
   ],
   "source": [
    "save_frames_as_gif(frames, filename='behavior_cloning.gif')"
   ]
  },
  {
   "cell_type": "markdown",
   "metadata": {},
   "source": [
    "# Generative Adversarial Imitation Learning"
   ]
  },
  {
   "cell_type": "code",
   "execution_count": 34,
   "metadata": {},
   "outputs": [],
   "source": [
    "env1 = make_vec_env(\n",
    "    \"CartPole-v1\",\n",
    "    rng=np.random.default_rng(42),\n",
    "    n_envs=8,\n",
    "    post_wrappers=[lambda env, _: RolloutInfoWrapper(env)],  # to compute rollouts\n",
    ")"
   ]
  },
  {
   "cell_type": "code",
   "execution_count": 32,
   "metadata": {},
   "outputs": [
    {
     "data": {
      "text/plain": [
       "array([-2.6099651e+00,  2.8907567e+38,  2.9632330e-02, -1.5335073e+38],\n",
       "      dtype=float32)"
      ]
     },
     "execution_count": 32,
     "metadata": {},
     "output_type": "execute_result"
    }
   ],
   "source": [
    "env1.observation_space.sample()"
   ]
  },
  {
   "cell_type": "code",
   "execution_count": 25,
   "metadata": {},
   "outputs": [
    {
     "data": {
      "text/plain": [
       "{'obs': tensor([[-0.0126,  0.0078, -0.0475,  0.0196]]),\n",
       " 'acts': 1,\n",
       " 'infos': {},\n",
       " 'next_obs': tensor([[-0.0124,  0.2036, -0.0471, -0.2877]]),\n",
       " 'dones': False}"
      ]
     },
     "execution_count": 25,
     "metadata": {},
     "output_type": "execute_result"
    }
   ],
   "source": [
    "custom_transitions[0]"
   ]
  },
  {
   "cell_type": "code",
   "execution_count": null,
   "metadata": {},
   "outputs": [],
   "source": [
    "from imitation.algorithms.adversarial.gail import GAIL\n",
    "from imitation.rewards.reward_nets import BasicShapedRewardNet\n",
    "from imitation.util.networks import RunningNorm\n",
    "from stable_baselines3 import PPO\n",
    "from stable_baselines3.ppo import MlpPolicy\n",
    "from stable_baselines3.common.evaluation import evaluate_policy\n",
    "\n",
    "# env1 = gym.make('CartPole-v1', render_mode = 'rgb_array')\n",
    "\n",
    "learner = PPO(\n",
    "    env=env1,\n",
    "    policy=MlpPolicy,\n",
    "    batch_size=64,\n",
    "    ent_coef=0.0,\n",
    "    learning_rate=0.00001,\n",
    "    n_epochs=1,\n",
    "    seed=42,\n",
    ")\n",
    "reward_net = BasicShapedRewardNet(\n",
    "    observation_space=env1.observation_space,\n",
    "    action_space=env1.action_space,\n",
    "    normalize_input_layer=RunningNorm,\n",
    ")\n",
    "gail_trainer = GAIL(\n",
    "    demonstrations=custom_transitions,\n",
    "    demo_batch_size=1024,\n",
    "    gen_replay_buffer_capacity=2048,\n",
    "    n_disc_updates_per_round=4,\n",
    "    venv=env1,\n",
    "    gen_algo=learner,\n",
    "    reward_net=reward_net,\n",
    "    allow_variable_horizon=True\n",
    ")\n",
    "\n",
    "# evaluate the learner before training\n",
    "env1.seed(42)\n",
    "learner_rewards_before_training, _ = evaluate_policy(\n",
    "    learner, env1, 100, return_episode_rewards=True\n",
    ")\n",
    "\n",
    "# train the learner and evaluate again\n",
    "gail_trainer.train(20000)\n",
    "env1.seed(42)\n",
    "learner_rewards_after_training, _ = evaluate_policy(\n",
    "    learner, env1, 100, return_episode_rewards=True\n",
    ")"
   ]
  },
  {
   "cell_type": "markdown",
   "metadata": {},
   "source": [
    "# Maximum entropy inverse reinforcement learning"
   ]
  },
  {
   "cell_type": "code",
   "execution_count": 1,
   "metadata": {},
   "outputs": [],
   "source": [
    "from functools import partial\n",
    "\n",
    "from seals import base_envs\n",
    "from seals.diagnostics.cliff_world import CliffWorldEnv\n",
    "from stable_baselines3.common.vec_env import DummyVecEnv\n",
    "\n",
    "import numpy as np\n",
    "\n",
    "from imitation.algorithms.mce_irl import (\n",
    "    MCEIRL,\n",
    "    mce_occupancy_measures,\n",
    "    mce_partition_fh,\n",
    "    TabularPolicy,\n",
    ")\n",
    "from imitation.data import rollout\n",
    "from imitation.rewards import reward_nets\n",
    "\n",
    "env_creator = partial(CliffWorldEnv, height=4, horizon=40, width=7, use_xy_obs=True)\n",
    "env_single = env_creator()\n",
    "\n",
    "state_env_creator = lambda: base_envs.ExposePOMDPStateWrapper(env_creator())\n",
    "\n",
    "# This is just a vectorized environment because `generate_trajectories` expects one\n",
    "state_venv = DummyVecEnv([state_env_creator] * 4)"
   ]
  },
  {
   "cell_type": "code",
   "execution_count": 2,
   "metadata": {},
   "outputs": [
    {
     "name": "stdout",
     "output_type": "stream",
     "text": [
      "Expert stats:  {'n_traj': 128, 'return_min': 296.0, 'return_mean': 325.75, 'return_std': 8.379662881047185, 'return_max': 334.0, 'len_min': 40, 'len_mean': 40.0, 'len_std': 0.0, 'len_max': 40}\n"
     ]
    }
   ],
   "source": [
    "_, _, pi = mce_partition_fh(env_single)\n",
    "\n",
    "_, om = mce_occupancy_measures(env_single, pi=pi)\n",
    "\n",
    "rng = np.random.default_rng()\n",
    "expert = TabularPolicy(\n",
    "    state_space=env_single.state_space,\n",
    "    action_space=env_single.action_space,\n",
    "    pi=pi,\n",
    "    rng=rng,\n",
    ")\n",
    "\n",
    "expert_trajs = rollout.generate_trajectories(\n",
    "    policy=expert,\n",
    "    venv=state_venv,\n",
    "    sample_until=rollout.make_min_timesteps(5000),\n",
    "    rng=rng,\n",
    ")\n",
    "\n",
    "print(\"Expert stats: \", rollout.rollout_stats(expert_trajs))"
   ]
  },
  {
   "cell_type": "code",
   "execution_count": 3,
   "metadata": {},
   "outputs": [],
   "source": [
    "import matplotlib.pyplot as plt\n",
    "import torch as th\n",
    "\n",
    "\n",
    "def train_mce_irl(demos, hidden_sizes, lr=0.01, **kwargs):\n",
    "    reward_net = reward_nets.BasicRewardNet(\n",
    "        env_single.observation_space,\n",
    "        env_single.action_space,\n",
    "        hid_sizes=hidden_sizes,\n",
    "        use_action=False,\n",
    "        use_done=False,\n",
    "        use_next_state=False,\n",
    "    )\n",
    "\n",
    "    mce_irl = MCEIRL(\n",
    "        demos,\n",
    "        env_single,\n",
    "        reward_net,\n",
    "        log_interval=250,\n",
    "        optimizer_kwargs=dict(lr=lr),\n",
    "        rng=rng,\n",
    "    )\n",
    "    occ_measure = mce_irl.train(**kwargs)\n",
    "\n",
    "    imitation_trajs = rollout.generate_trajectories(\n",
    "        policy=mce_irl.policy,\n",
    "        venv=state_venv,\n",
    "        sample_until=rollout.make_min_timesteps(5000),\n",
    "        rng=rng,\n",
    "    )\n",
    "    print(\"Imitation stats: \", rollout.rollout_stats(imitation_trajs))\n",
    "\n",
    "    plt.figure(figsize=(10, 5))\n",
    "    plt.subplot(1, 2, 1)\n",
    "    env_single.draw_value_vec(occ_measure)\n",
    "    plt.title(\"Occupancy for learned reward\")\n",
    "    plt.xlabel(\"Gridworld x-coordinate\")\n",
    "    plt.ylabel(\"Gridworld y-coordinate\")\n",
    "    plt.subplot(1, 2, 2)\n",
    "    _, true_occ_measure = mce_occupancy_measures(env_single)\n",
    "    env_single.draw_value_vec(true_occ_measure)\n",
    "    plt.title(\"Occupancy for true reward\")\n",
    "    plt.xlabel(\"Gridworld x-coordinate\")\n",
    "    plt.ylabel(\"Gridworld y-coordinate\")\n",
    "    plt.show()\n",
    "\n",
    "    plt.figure(figsize=(10, 5))\n",
    "    plt.subplot(1, 2, 1)\n",
    "    env_single.draw_value_vec(\n",
    "        reward_net(th.as_tensor(env_single.observation_matrix), None, None, None)\n",
    "        .detach()\n",
    "        .numpy()\n",
    "    )\n",
    "    plt.title(\"Learned reward\")\n",
    "    plt.xlabel(\"Gridworld x-coordinate\")\n",
    "    plt.ylabel(\"Gridworld y-coordinate\")\n",
    "    plt.subplot(1, 2, 2)\n",
    "    env_single.draw_value_vec(env_single.reward_matrix)\n",
    "    plt.title(\"True reward\")\n",
    "    plt.xlabel(\"Gridworld x-coordinate\")\n",
    "    plt.ylabel(\"Gridworld y-coordinate\")\n",
    "    plt.show()\n",
    "\n",
    "    return mce_irl"
   ]
  },
  {
   "cell_type": "code",
   "execution_count": 4,
   "metadata": {},
   "outputs": [
    {
     "name": "stdout",
     "output_type": "stream",
     "text": [
      "--------------------------\n",
      "| grad_norm   | 101      |\n",
      "| iteration   | 0        |\n",
      "| linf_delta  | 32.5     |\n",
      "| weight_norm | 11.4     |\n",
      "--------------------------\n",
      "--------------------------\n",
      "| grad_norm   | 0.336    |\n",
      "| iteration   | 250      |\n",
      "| linf_delta  | 0.2      |\n",
      "| weight_norm | 17.4     |\n",
      "--------------------------\n",
      "--------------------------\n",
      "| grad_norm   | 0.339    |\n",
      "| iteration   | 500      |\n",
      "| linf_delta  | 0.142    |\n",
      "| weight_norm | 19.3     |\n",
      "--------------------------\n",
      "--------------------------\n",
      "| grad_norm   | 0.313    |\n",
      "| iteration   | 750      |\n",
      "| linf_delta  | 0.066    |\n",
      "| weight_norm | 21.9     |\n",
      "--------------------------\n",
      "Imitation stats:  {'n_traj': 128, 'return_min': 296.0, 'return_mean': 325.015625, 'return_std': 8.882905260069759, 'return_max': 334.0, 'len_min': 40, 'len_mean': 40.0, 'len_std': 0.0, 'len_max': 40}\n"
     ]
    },
    {
     "data": {
      "image/png": "[encoded data removed]",
      "text/plain": [
       "<Figure size 1000x500 with 2 Axes>"
      ]
     },
     "metadata": {},
     "output_type": "display_data"
    },
    {
     "data": {
      "image/png": "[encoded data removed]",
      "text/plain": [
       "<Figure size 1000x500 with 2 Axes>"
      ]
     },
     "metadata": {},
     "output_type": "display_data"
    },
    {
     "data": {
      "text/plain": [
       "<imitation.algorithms.mce_irl.MCEIRL at 0x2a1496990>"
      ]
     },
     "execution_count": 4,
     "metadata": {},
     "output_type": "execute_result"
    }
   ],
   "source": [
    "train_mce_irl(om, hidden_sizes=[256])"
   ]
  },
  {
   "cell_type": "code",
   "execution_count": 8,
   "metadata": {},
   "outputs": [
    {
     "data": {
      "text/plain": [
       "128"
      ]
     },
     "execution_count": 8,
     "metadata": {},
     "output_type": "execute_result"
    }
   ],
   "source": [
    "len(expert_trajs)"
   ]
  },
  {
   "cell_type": "code",
   "execution_count": 10,
   "metadata": {},
   "outputs": [
    {
     "name": "stdout",
     "output_type": "stream",
     "text": [
      "--------------------------\n",
      "| grad_norm   | 126      |\n",
      "| iteration   | 0        |\n",
      "| linf_delta  | 33.3     |\n",
      "| weight_norm | 11.2     |\n",
      "--------------------------\n",
      "--------------------------\n",
      "| grad_norm   | 0.434    |\n",
      "| iteration   | 250      |\n",
      "| linf_delta  | 0.142    |\n",
      "| weight_norm | 18       |\n",
      "--------------------------\n",
      "--------------------------\n",
      "| grad_norm   | 0.583    |\n",
      "| iteration   | 500      |\n",
      "| linf_delta  | 0.106    |\n",
      "| weight_norm | 21.8     |\n",
      "--------------------------\n",
      "--------------------------\n",
      "| grad_norm   | 0.706    |\n",
      "| iteration   | 750      |\n",
      "| linf_delta  | 0.104    |\n",
      "| weight_norm | 27.9     |\n",
      "--------------------------\n",
      "Imitation stats:  {'n_traj': 128, 'return_min': 289.0, 'return_mean': 324.46875, 'return_std': 8.979958153438133, 'return_max': 334.0, 'len_min': 40, 'len_mean': 40.0, 'len_std': 0.0, 'len_max': 40}\n"
     ]
    },
    {
     "data": {
      "image/png": "[encoded data removed]",
      "text/plain": [
       "<Figure size 1000x500 with 2 Axes>"
      ]
     },
     "metadata": {},
     "output_type": "display_data"
    },
    {
     "data": {
      "image/png": "[encoded data removed]",
      "text/plain": [
       "<Figure size 1000x500 with 2 Axes>"
      ]
     },
     "metadata": {},
     "output_type": "display_data"
    }
   ],
   "source": [
    "mce_irl_from_trajs = train_mce_irl(expert_trajs, hidden_sizes=[256])"
   ]
  },
  {
   "cell_type": "code",
   "execution_count": null,
   "metadata": {},
   "outputs": [],
   "source": []
  }
 ],
 "metadata": {
  "kernelspec": {
   "display_name": "cr37",
   "language": "python",
   "name": "python3"
  },
  "language_info": {
   "codemirror_mode": {
    "name": "ipython",
    "version": 3
   },
   "file_extension": ".py",
   "mimetype": "text/x-python",
   "name": "python",
   "nbconvert_exporter": "python",
   "pygments_lexer": "ipython3",
   "version": "3.11.0"
  },
  "orig_nbformat": 4
 },
 "nbformat": 4,
 "nbformat_minor": 2
}
